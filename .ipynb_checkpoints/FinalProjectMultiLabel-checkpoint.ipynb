{
 "cells": [
  {
   "cell_type": "markdown",
   "metadata": {},
   "source": [
    "# En este proyecto intentaremos predecir el género de una película dado el plot en inglés de la misma."
   ]
  },
  {
   "cell_type": "markdown",
   "metadata": {},
   "source": [
    "### Carga de datos y limpieza general"
   ]
  },
  {
   "cell_type": "markdown",
   "metadata": {},
   "source": [
    "Comenzamos importando las librerias"
   ]
  },
  {
   "cell_type": "code",
   "execution_count": 2,
   "metadata": {},
   "outputs": [],
   "source": [
    "import numpy as np\n",
    "import pandas as pd\n",
    "import seaborn as sns\n",
    "import os\n",
    "import re\n",
    "import matplotlib.pyplot as plt\n",
    "from IPython.display import display\n",
    "from wordcloud import WordCloud\n",
    "pd.options.display.max_columns = None\n",
    "import warnings\n",
    "warnings.filterwarnings(\"ignore\")\n",
    "\n",
    "import nltk\n",
    "from nltk import sent_tokenize, word_tokenize\n",
    "from nltk.stem import PorterStemmer\n",
    "from nltk.corpus import stopwords\n",
    "from nltk.stem.wordnet import WordNetLemmatizer\n",
    "from nltk.tokenize import ToktokTokenizer\n",
    "\n",
    "from sklearn.feature_extraction.text import CountVectorizer\n",
    "from sklearn.model_selection import train_test_split\n",
    "from sklearn.linear_model import LogisticRegression\n",
    "from sklearn.svm import LinearSVC\n",
    "from sklearn.multiclass import OneVsRestClassifier\n",
    "from sklearn.pipeline import Pipeline\n",
    "from sklearn.feature_extraction.text import TfidfVectorizer\n",
    "from sklearn.metrics import accuracy_score\n",
    "from sklearn.metrics import classification_report\n",
    "from sklearn.metrics import confusion_matrix\n",
    "from sklearn.naive_bayes import MultinomialNB\n",
    "from sklearn.ensemble import RandomForestClassifier\n",
    "from sklearn.feature_extraction.text import TfidfTransformer\n",
    "from skmultilearn.problem_transform import BinaryRelevance\n",
    "from sklearn.naive_bayes import GaussianNB\n",
    "from skmultilearn.problem_transform import ClassifierChain\n",
    "from sklearn.ensemble import RandomForestClassifier\n",
    "from sklearn.model_selection import GridSearchCV\n",
    "from sklearn.model_selection import cross_val_score\n",
    "from sklearn.model_selection import KFold\n",
    "from sklearn import svm\n",
    "from sklearn.svm import SVC\n",
    "from sklearn import preprocessing\n",
    "from sklearn.utils import shuffle\n"
   ]
  },
  {
   "cell_type": "markdown",
   "metadata": {},
   "source": [
    "Descargamos el dataset de Kaggle de este link: https://www.kaggle.com/jrobischon/wikipedia-movie-plots ... Adicionalmente, revisaremos brevemente la información que contiene el DataSet"
   ]
  },
  {
   "cell_type": "code",
   "execution_count": 3,
   "metadata": {},
   "outputs": [],
   "source": [
    "df = pd.read_csv('wiki_movie_plots_deduped.csv')"
   ]
  },
  {
   "cell_type": "code",
   "execution_count": 4,
   "metadata": {},
   "outputs": [
    {
     "data": {
      "text/html": [
       "<div>\n",
       "<style scoped>\n",
       "    .dataframe tbody tr th:only-of-type {\n",
       "        vertical-align: middle;\n",
       "    }\n",
       "\n",
       "    .dataframe tbody tr th {\n",
       "        vertical-align: top;\n",
       "    }\n",
       "\n",
       "    .dataframe thead th {\n",
       "        text-align: right;\n",
       "    }\n",
       "</style>\n",
       "<table border=\"1\" class=\"dataframe\">\n",
       "  <thead>\n",
       "    <tr style=\"text-align: right;\">\n",
       "      <th></th>\n",
       "      <th>Release Year</th>\n",
       "      <th>Title</th>\n",
       "      <th>Origin/Ethnicity</th>\n",
       "      <th>Director</th>\n",
       "      <th>Cast</th>\n",
       "      <th>Genre</th>\n",
       "      <th>Wiki Page</th>\n",
       "      <th>Plot</th>\n",
       "    </tr>\n",
       "  </thead>\n",
       "  <tbody>\n",
       "    <tr>\n",
       "      <th>0</th>\n",
       "      <td>1901</td>\n",
       "      <td>Kansas Saloon Smashers</td>\n",
       "      <td>American</td>\n",
       "      <td>Unknown</td>\n",
       "      <td>NaN</td>\n",
       "      <td>unknown</td>\n",
       "      <td>https://en.wikipedia.org/wiki/Kansas_Saloon_Sm...</td>\n",
       "      <td>A bartender is working at a saloon, serving dr...</td>\n",
       "    </tr>\n",
       "    <tr>\n",
       "      <th>1</th>\n",
       "      <td>1901</td>\n",
       "      <td>Love by the Light of the Moon</td>\n",
       "      <td>American</td>\n",
       "      <td>Unknown</td>\n",
       "      <td>NaN</td>\n",
       "      <td>unknown</td>\n",
       "      <td>https://en.wikipedia.org/wiki/Love_by_the_Ligh...</td>\n",
       "      <td>The moon, painted with a smiling face hangs ov...</td>\n",
       "    </tr>\n",
       "  </tbody>\n",
       "</table>\n",
       "</div>"
      ],
      "text/plain": [
       "   Release Year                          Title Origin/Ethnicity Director Cast  \\\n",
       "0          1901         Kansas Saloon Smashers         American  Unknown  NaN   \n",
       "1          1901  Love by the Light of the Moon         American  Unknown  NaN   \n",
       "\n",
       "     Genre                                          Wiki Page  \\\n",
       "0  unknown  https://en.wikipedia.org/wiki/Kansas_Saloon_Sm...   \n",
       "1  unknown  https://en.wikipedia.org/wiki/Love_by_the_Ligh...   \n",
       "\n",
       "                                                Plot  \n",
       "0  A bartender is working at a saloon, serving dr...  \n",
       "1  The moon, painted with a smiling face hangs ov...  "
      ]
     },
     "metadata": {},
     "output_type": "display_data"
    },
    {
     "data": {
      "text/plain": [
       "(34886, 8)"
      ]
     },
     "metadata": {},
     "output_type": "display_data"
    },
    {
     "data": {
      "text/plain": [
       "unknown    6083\n",
       "drama      5964\n",
       "comedy     4379\n",
       "horror     1167\n",
       "action     1098\n",
       "Name: Genre, dtype: int64"
      ]
     },
     "metadata": {},
     "output_type": "display_data"
    },
    {
     "data": {
      "text/plain": [
       "'Unique genres values: 2265'"
      ]
     },
     "metadata": {},
     "output_type": "display_data"
    }
   ],
   "source": [
    "display(df.head(2))\n",
    "display(df.shape)\n",
    "display(df[\"Genre\"].value_counts().head())\n",
    "display(\"Unique genres values: {}\".format(len(df[\"Genre\"].value_counts())))"
   ]
  },
  {
   "cell_type": "markdown",
   "metadata": {},
   "source": [
    "Vemos que hay muchos generos desconocidos y que hay una variedad muy grande de géneros (2265), por ello decido\n",
    "traerme otro DataFrame de IMDB con los géneros y posteriormente hacer un join. \n"
   ]
  },
  {
   "cell_type": "code",
   "execution_count": 5,
   "metadata": {},
   "outputs": [],
   "source": [
    "# Importamos el nuevo dataframe  \n",
    "df_genre = pd.read_csv(\"title.basics.tsv\",delimiter=\"\\t\")"
   ]
  },
  {
   "cell_type": "code",
   "execution_count": 6,
   "metadata": {},
   "outputs": [
    {
     "data": {
      "text/html": [
       "<div>\n",
       "<style scoped>\n",
       "    .dataframe tbody tr th:only-of-type {\n",
       "        vertical-align: middle;\n",
       "    }\n",
       "\n",
       "    .dataframe tbody tr th {\n",
       "        vertical-align: top;\n",
       "    }\n",
       "\n",
       "    .dataframe thead th {\n",
       "        text-align: right;\n",
       "    }\n",
       "</style>\n",
       "<table border=\"1\" class=\"dataframe\">\n",
       "  <thead>\n",
       "    <tr style=\"text-align: right;\">\n",
       "      <th></th>\n",
       "      <th>tconst</th>\n",
       "      <th>titleType</th>\n",
       "      <th>primaryTitle</th>\n",
       "      <th>originalTitle</th>\n",
       "      <th>isAdult</th>\n",
       "      <th>startYear</th>\n",
       "      <th>endYear</th>\n",
       "      <th>runtimeMinutes</th>\n",
       "      <th>genres</th>\n",
       "    </tr>\n",
       "  </thead>\n",
       "  <tbody>\n",
       "    <tr>\n",
       "      <th>0</th>\n",
       "      <td>tt0000001</td>\n",
       "      <td>short</td>\n",
       "      <td>Carmencita</td>\n",
       "      <td>Carmencita</td>\n",
       "      <td>0</td>\n",
       "      <td>1894</td>\n",
       "      <td>\\N</td>\n",
       "      <td>1</td>\n",
       "      <td>Documentary,Short</td>\n",
       "    </tr>\n",
       "    <tr>\n",
       "      <th>1</th>\n",
       "      <td>tt0000002</td>\n",
       "      <td>short</td>\n",
       "      <td>Le clown et ses chiens</td>\n",
       "      <td>Le clown et ses chiens</td>\n",
       "      <td>0</td>\n",
       "      <td>1892</td>\n",
       "      <td>\\N</td>\n",
       "      <td>5</td>\n",
       "      <td>Animation,Short</td>\n",
       "    </tr>\n",
       "    <tr>\n",
       "      <th>2</th>\n",
       "      <td>tt0000003</td>\n",
       "      <td>short</td>\n",
       "      <td>Pauvre Pierrot</td>\n",
       "      <td>Pauvre Pierrot</td>\n",
       "      <td>0</td>\n",
       "      <td>1892</td>\n",
       "      <td>\\N</td>\n",
       "      <td>4</td>\n",
       "      <td>Animation,Comedy,Romance</td>\n",
       "    </tr>\n",
       "  </tbody>\n",
       "</table>\n",
       "</div>"
      ],
      "text/plain": [
       "      tconst titleType            primaryTitle           originalTitle  \\\n",
       "0  tt0000001     short              Carmencita              Carmencita   \n",
       "1  tt0000002     short  Le clown et ses chiens  Le clown et ses chiens   \n",
       "2  tt0000003     short          Pauvre Pierrot          Pauvre Pierrot   \n",
       "\n",
       "   isAdult startYear endYear runtimeMinutes                    genres  \n",
       "0        0      1894      \\N              1         Documentary,Short  \n",
       "1        0      1892      \\N              5           Animation,Short  \n",
       "2        0      1892      \\N              4  Animation,Comedy,Romance  "
      ]
     },
     "metadata": {},
     "output_type": "display_data"
    },
    {
     "data": {
      "text/plain": [
       "2869207"
      ]
     },
     "execution_count": 6,
     "metadata": {},
     "output_type": "execute_result"
    }
   ],
   "source": [
    "# Revisamos la información que nos trae el nuevo DataFrame\n",
    "display(df_genre.head(3))\n",
    "df_genre.shape"
   ]
  },
  {
   "cell_type": "code",
   "execution_count": 7,
   "metadata": {},
   "outputs": [],
   "source": [
    "# Hacemos el Merge \n",
    "df_joined = df.merge(df_genre[[\"originalTitle\",\"genres\"]],left_on=\"Title\",right_on=\"originalTitle\").sample(30000,random_state=42)\n"
   ]
  },
  {
   "cell_type": "markdown",
   "metadata": {},
   "source": [
    "Revisamos la información que tenemos"
   ]
  },
  {
   "cell_type": "code",
   "execution_count": 8,
   "metadata": {},
   "outputs": [
    {
     "data": {
      "text/plain": [
       "'Forma del nuevo df: (30000, 10)'"
      ]
     },
     "metadata": {},
     "output_type": "display_data"
    },
    {
     "data": {
      "text/plain": [
       "'Cantidad de películas únicas en el df: 9217'"
      ]
     },
     "metadata": {},
     "output_type": "display_data"
    },
    {
     "data": {
      "text/plain": [
       "\"Hay películas repetidas, por ejemplo, 'Jack and the Beanstalk' aparece 10 veces\""
      ]
     },
     "metadata": {},
     "output_type": "display_data"
    },
    {
     "data": {
      "text/html": [
       "<div>\n",
       "<style scoped>\n",
       "    .dataframe tbody tr th:only-of-type {\n",
       "        vertical-align: middle;\n",
       "    }\n",
       "\n",
       "    .dataframe tbody tr th {\n",
       "        vertical-align: top;\n",
       "    }\n",
       "\n",
       "    .dataframe thead th {\n",
       "        text-align: right;\n",
       "    }\n",
       "</style>\n",
       "<table border=\"1\" class=\"dataframe\">\n",
       "  <thead>\n",
       "    <tr style=\"text-align: right;\">\n",
       "      <th></th>\n",
       "      <th>Title</th>\n",
       "      <th>genres</th>\n",
       "    </tr>\n",
       "  </thead>\n",
       "  <tbody>\n",
       "    <tr>\n",
       "      <th>41</th>\n",
       "      <td>Jack and the Beanstalk</td>\n",
       "      <td>Animation,Comedy</td>\n",
       "    </tr>\n",
       "    <tr>\n",
       "      <th>44</th>\n",
       "      <td>Jack and the Beanstalk</td>\n",
       "      <td>Family,Short</td>\n",
       "    </tr>\n",
       "    <tr>\n",
       "      <th>89</th>\n",
       "      <td>Jack and the Beanstalk</td>\n",
       "      <td>\\N</td>\n",
       "    </tr>\n",
       "    <tr>\n",
       "      <th>87</th>\n",
       "      <td>Jack and the Beanstalk</td>\n",
       "      <td>Family,Short</td>\n",
       "    </tr>\n",
       "    <tr>\n",
       "      <th>12</th>\n",
       "      <td>Jack and the Beanstalk</td>\n",
       "      <td>\\N</td>\n",
       "    </tr>\n",
       "  </tbody>\n",
       "</table>\n",
       "</div>"
      ],
      "text/plain": [
       "                     Title            genres\n",
       "41  Jack and the Beanstalk  Animation,Comedy\n",
       "44  Jack and the Beanstalk      Family,Short\n",
       "89  Jack and the Beanstalk                \\N\n",
       "87  Jack and the Beanstalk      Family,Short\n",
       "12  Jack and the Beanstalk                \\N"
      ]
     },
     "execution_count": 8,
     "metadata": {},
     "output_type": "execute_result"
    }
   ],
   "source": [
    "display(\"Forma del nuevo df: {}\".format(df_joined.shape))\n",
    "\n",
    "display(\"Cantidad de películas únicas en el df: {}\".format(len(df_joined[\"Title\"].unique().tolist())))\n",
    "\n",
    "jack = len(df_joined[df_joined[\"Title\"]==\"Jack and the Beanstalk\"])\n",
    "display(\"Hay películas repetidas, por ejemplo, 'Jack and the Beanstalk' aparece {} veces\".format(jack))\n",
    "\n",
    "df_joined[df_joined[\"Title\"] == \"Jack and the Beanstalk\"][[\"Title\",\"genres\"]].head()"
   ]
  },
  {
   "cell_type": "code",
   "execution_count": 9,
   "metadata": {},
   "outputs": [
    {
     "data": {
      "text/plain": [
       "(25543, 3)"
      ]
     },
     "metadata": {},
     "output_type": "display_data"
    },
    {
     "data": {
      "text/html": [
       "<div>\n",
       "<style scoped>\n",
       "    .dataframe tbody tr th:only-of-type {\n",
       "        vertical-align: middle;\n",
       "    }\n",
       "\n",
       "    .dataframe tbody tr th {\n",
       "        vertical-align: top;\n",
       "    }\n",
       "\n",
       "    .dataframe thead th {\n",
       "        text-align: right;\n",
       "    }\n",
       "</style>\n",
       "<table border=\"1\" class=\"dataframe\">\n",
       "  <thead>\n",
       "    <tr style=\"text-align: right;\">\n",
       "      <th></th>\n",
       "      <th>Title</th>\n",
       "      <th>Plot</th>\n",
       "      <th>genres</th>\n",
       "    </tr>\n",
       "  </thead>\n",
       "  <tbody>\n",
       "    <tr>\n",
       "      <th>186486</th>\n",
       "      <td>Kidnap</td>\n",
       "      <td>Karla Dyson (Halle Berry), a diner waitress, l...</td>\n",
       "      <td>Crime,Drama,Mystery</td>\n",
       "    </tr>\n",
       "    <tr>\n",
       "      <th>105303</th>\n",
       "      <td>Finders Keepers</td>\n",
       "      <td>Con man Michael Rangeloff (Michael O'Keefe) is...</td>\n",
       "      <td>Game-Show</td>\n",
       "    </tr>\n",
       "    <tr>\n",
       "      <th>3016</th>\n",
       "      <td>The Cheat</td>\n",
       "      <td>Socialite Edith Hardy (Ward) has extravagant t...</td>\n",
       "      <td>Drama,Short</td>\n",
       "    </tr>\n",
       "  </tbody>\n",
       "</table>\n",
       "</div>"
      ],
      "text/plain": [
       "                  Title                                               Plot  \\\n",
       "186486           Kidnap  Karla Dyson (Halle Berry), a diner waitress, l...   \n",
       "105303  Finders Keepers  Con man Michael Rangeloff (Michael O'Keefe) is...   \n",
       "3016          The Cheat  Socialite Edith Hardy (Ward) has extravagant t...   \n",
       "\n",
       "                     genres  \n",
       "186486  Crime,Drama,Mystery  \n",
       "105303            Game-Show  \n",
       "3016            Drama,Short  "
      ]
     },
     "execution_count": 9,
     "metadata": {},
     "output_type": "execute_result"
    }
   ],
   "source": [
    "# Nos quedamos únicamente con las features que nos interesan.\n",
    "df_joined_c = df_joined.loc[:,(\"Title\",\"Plot\",\"genres\")]\n",
    "\n",
    "# Eliminamos las películas que no tienen un género asignado y las filas que están duplicadas.\n",
    "df_joined_c = df_joined_c[df_joined_c.loc[:,\"genres\"] !=\"\\\\N\"]\n",
    "df_joined_c.drop_duplicates(inplace=True)\n",
    "display(df_joined_c.shape)\n",
    "df_joined_c.head(3)"
   ]
  },
  {
   "cell_type": "markdown",
   "metadata": {},
   "source": [
    "Ya que existen películas que aparecen repetidas muchas veces con distintos géneros asignados (como Jack and the Beanstalk), decido quedarme con el género que más veces aparece repetido por película."
   ]
  },
  {
   "cell_type": "code",
   "execution_count": 267,
   "metadata": {},
   "outputs": [],
   "source": [
    "new_df = []\n",
    "def genres(movie):  \n",
    "    genres = df_joined_c[df_joined_c[\"Title\"]== movie][\"genres\"].tolist() # List of genres\n",
    "    title = df_joined_c[df_joined_c[\"Title\"]== movie][\"Title\"].iloc[0] # title\n",
    "    plot = df_joined_c[df_joined_c[\"Title\"]== movie][\"Plot\"].iloc[0] # plot\n",
    "    list_genres = (\",\".join(genres)).split(\",\") # genres in list \n",
    "    genres_proc = pd.Series(list_genres).value_counts().index[:1].tolist() # Top 2 most repeated genres\n",
    "    inf = {\"Title\":title,\"Plot\":plot,\"Genres\":genres_proc} # Final row to add\n",
    "    new_df.append(inf)"
   ]
  },
  {
   "cell_type": "code",
   "execution_count": 268,
   "metadata": {},
   "outputs": [
    {
     "name": "stdout",
     "output_type": "stream",
     "text": [
      "CPU times: user 8min 57s, sys: 5.22 s, total: 9min 2s\n",
      "Wall time: 13min\n"
     ]
    }
   ],
   "source": [
    "%%time\n",
    "unique_titles = df_joined_c[\"Title\"].unique().tolist()\n",
    "for title in unique_titles:\n",
    "    genres(title)"
   ]
  },
  {
   "cell_type": "code",
   "execution_count": 498,
   "metadata": {},
   "outputs": [
    {
     "data": {
      "text/html": [
       "<div>\n",
       "<style scoped>\n",
       "    .dataframe tbody tr th:only-of-type {\n",
       "        vertical-align: middle;\n",
       "    }\n",
       "\n",
       "    .dataframe tbody tr th {\n",
       "        vertical-align: top;\n",
       "    }\n",
       "\n",
       "    .dataframe thead th {\n",
       "        text-align: right;\n",
       "    }\n",
       "</style>\n",
       "<table border=\"1\" class=\"dataframe\">\n",
       "  <thead>\n",
       "    <tr style=\"text-align: right;\">\n",
       "      <th></th>\n",
       "      <th>Genres</th>\n",
       "      <th>Plot</th>\n",
       "      <th>Title</th>\n",
       "    </tr>\n",
       "  </thead>\n",
       "  <tbody>\n",
       "    <tr>\n",
       "      <th>0</th>\n",
       "      <td>[Drama]</td>\n",
       "      <td>Karla Dyson (Halle Berry), a diner waitress, l...</td>\n",
       "      <td>Kidnap</td>\n",
       "    </tr>\n",
       "    <tr>\n",
       "      <th>1</th>\n",
       "      <td>[Drama]</td>\n",
       "      <td>Con man Michael Rangeloff (Michael O'Keefe) is...</td>\n",
       "      <td>Finders Keepers</td>\n",
       "    </tr>\n",
       "    <tr>\n",
       "      <th>2</th>\n",
       "      <td>[Drama]</td>\n",
       "      <td>Socialite Edith Hardy (Ward) has extravagant t...</td>\n",
       "      <td>The Cheat</td>\n",
       "    </tr>\n",
       "  </tbody>\n",
       "</table>\n",
       "</div>"
      ],
      "text/plain": [
       "    Genres                                               Plot            Title\n",
       "0  [Drama]  Karla Dyson (Halle Berry), a diner waitress, l...           Kidnap\n",
       "1  [Drama]  Con man Michael Rangeloff (Michael O'Keefe) is...  Finders Keepers\n",
       "2  [Drama]  Socialite Edith Hardy (Ward) has extravagant t...        The Cheat"
      ]
     },
     "execution_count": 498,
     "metadata": {},
     "output_type": "execute_result"
    }
   ],
   "source": [
    "movies = pd.DataFrame(new_df)\n",
    "movies.head(3)"
   ]
  },
  {
   "cell_type": "markdown",
   "metadata": {},
   "source": [
    "### Análisis sobre los géneros"
   ]
  },
  {
   "cell_type": "code",
   "execution_count": 499,
   "metadata": {},
   "outputs": [],
   "source": [
    "genres_array = np.array([])\n",
    "for i in range(0,len(movies)):\n",
    "    genres_array = np.concatenate((genres_array, movies['Genres'][i]))\n"
   ]
  },
  {
   "cell_type": "code",
   "execution_count": 500,
   "metadata": {},
   "outputs": [
    {
     "data": {
      "text/plain": [
       "<bound method NDFrame.head of              Count\n",
       "Genres            \n",
       "Drama         3201\n",
       "Comedy        3135\n",
       "Short         1065\n",
       "Crime          851\n",
       "Documentary    851\n",
       "Adventure      748\n",
       "Romance        504\n",
       "Animation      469\n",
       "Family         459\n",
       "Thriller       420\n",
       "Horror         403\n",
       "Mystery        392\n",
       "Action         344\n",
       "Talk-Show      316\n",
       "Fantasy        277\n",
       "Western        249\n",
       "Biography      222\n",
       "War            183\n",
       "Music          166\n",
       "Musical        140\n",
       "Reality-TV     138\n",
       "Adult          136\n",
       "History        102\n",
       "Sport           74\n",
       "Sci-Fi          69\n",
       "News            66\n",
       "Film-Noir       12\n",
       "Game-Show       10>"
      ]
     },
     "execution_count": 500,
     "metadata": {},
     "output_type": "execute_result"
    }
   ],
   "source": [
    "# Lets see thow many movies we have for each genre\n",
    "gen_df = pd.DataFrame({\"Genres\":genres_array})\n",
    "gen_df[\"Count\"] = 1 \n",
    "mbg = gen_df.groupby(\"Genres\").sum().sort_values(by=\"Count\",ascending=False)\n",
    "mbg.head"
   ]
  },
  {
   "cell_type": "markdown",
   "metadata": {},
   "source": [
    "Vemos que la mayoría de las películas pertenecen a unos pocos géneros. Así mismo que el género \"Music\" y \"Musical\" se puede agrupar. "
   ]
  },
  {
   "cell_type": "code",
   "execution_count": 501,
   "metadata": {},
   "outputs": [],
   "source": [
    "# Transformamos \"Music\" en \"Musical\"\n",
    "gen_df[\"Genres\"] = gen_df[\"Genres\"].apply(lambda x: \"Musical\" if x == \"Music\" else x)\n",
    "mbg2 = gen_df.groupby(\"Genres\").sum().sort_values(by=\"Count\",ascending=False)"
   ]
  },
  {
   "cell_type": "code",
   "execution_count": 502,
   "metadata": {},
   "outputs": [
    {
     "data": {
      "image/png": "[encoded data removed]",
      "text/plain": [
       "<Figure size 432x288 with 1 Axes>"
      ]
     },
     "metadata": {},
     "output_type": "display_data"
    }
   ],
   "source": [
    "# Creamos un gráfico visual\n",
    "sns.set()\n",
    "_ = plt.bar(mbg.index,mbg[\"Count\"],label=mbg.index)\n",
    "plt.xticks(rotation=90)\n",
    "plt.show()"
   ]
  },
  {
   "cell_type": "code",
   "execution_count": 503,
   "metadata": {},
   "outputs": [
    {
     "data": {
      "text/html": [
       "<div>\n",
       "<style scoped>\n",
       "    .dataframe tbody tr th:only-of-type {\n",
       "        vertical-align: middle;\n",
       "    }\n",
       "\n",
       "    .dataframe tbody tr th {\n",
       "        vertical-align: top;\n",
       "    }\n",
       "\n",
       "    .dataframe thead th {\n",
       "        text-align: right;\n",
       "    }\n",
       "</style>\n",
       "<table border=\"1\" class=\"dataframe\">\n",
       "  <thead>\n",
       "    <tr style=\"text-align: right;\">\n",
       "      <th></th>\n",
       "      <th>Genres</th>\n",
       "      <th>Count</th>\n",
       "      <th>Frequency</th>\n",
       "      <th>Cumulative_Freq</th>\n",
       "    </tr>\n",
       "  </thead>\n",
       "  <tbody>\n",
       "    <tr>\n",
       "      <th>0</th>\n",
       "      <td>Drama</td>\n",
       "      <td>3201</td>\n",
       "      <td>0.213372</td>\n",
       "      <td>0.213372</td>\n",
       "    </tr>\n",
       "    <tr>\n",
       "      <th>1</th>\n",
       "      <td>Comedy</td>\n",
       "      <td>3135</td>\n",
       "      <td>0.208972</td>\n",
       "      <td>0.422344</td>\n",
       "    </tr>\n",
       "    <tr>\n",
       "      <th>2</th>\n",
       "      <td>Short</td>\n",
       "      <td>1065</td>\n",
       "      <td>0.070991</td>\n",
       "      <td>0.493334</td>\n",
       "    </tr>\n",
       "    <tr>\n",
       "      <th>3</th>\n",
       "      <td>Crime</td>\n",
       "      <td>851</td>\n",
       "      <td>0.056726</td>\n",
       "      <td>0.550060</td>\n",
       "    </tr>\n",
       "    <tr>\n",
       "      <th>4</th>\n",
       "      <td>Documentary</td>\n",
       "      <td>851</td>\n",
       "      <td>0.056726</td>\n",
       "      <td>0.606786</td>\n",
       "    </tr>\n",
       "    <tr>\n",
       "      <th>5</th>\n",
       "      <td>Adventure</td>\n",
       "      <td>748</td>\n",
       "      <td>0.049860</td>\n",
       "      <td>0.656646</td>\n",
       "    </tr>\n",
       "    <tr>\n",
       "      <th>6</th>\n",
       "      <td>Romance</td>\n",
       "      <td>504</td>\n",
       "      <td>0.033596</td>\n",
       "      <td>0.690241</td>\n",
       "    </tr>\n",
       "    <tr>\n",
       "      <th>7</th>\n",
       "      <td>Animation</td>\n",
       "      <td>469</td>\n",
       "      <td>0.031262</td>\n",
       "      <td>0.721504</td>\n",
       "    </tr>\n",
       "    <tr>\n",
       "      <th>8</th>\n",
       "      <td>Family</td>\n",
       "      <td>459</td>\n",
       "      <td>0.030596</td>\n",
       "      <td>0.752100</td>\n",
       "    </tr>\n",
       "    <tr>\n",
       "      <th>9</th>\n",
       "      <td>Thriller</td>\n",
       "      <td>420</td>\n",
       "      <td>0.027996</td>\n",
       "      <td>0.780096</td>\n",
       "    </tr>\n",
       "    <tr>\n",
       "      <th>10</th>\n",
       "      <td>Horror</td>\n",
       "      <td>403</td>\n",
       "      <td>0.026863</td>\n",
       "      <td>0.806959</td>\n",
       "    </tr>\n",
       "    <tr>\n",
       "      <th>11</th>\n",
       "      <td>Mystery</td>\n",
       "      <td>392</td>\n",
       "      <td>0.026130</td>\n",
       "      <td>0.833089</td>\n",
       "    </tr>\n",
       "    <tr>\n",
       "      <th>12</th>\n",
       "      <td>Action</td>\n",
       "      <td>344</td>\n",
       "      <td>0.022930</td>\n",
       "      <td>0.856019</td>\n",
       "    </tr>\n",
       "    <tr>\n",
       "      <th>13</th>\n",
       "      <td>Talk-Show</td>\n",
       "      <td>316</td>\n",
       "      <td>0.021064</td>\n",
       "      <td>0.877083</td>\n",
       "    </tr>\n",
       "    <tr>\n",
       "      <th>14</th>\n",
       "      <td>Musical</td>\n",
       "      <td>306</td>\n",
       "      <td>0.020397</td>\n",
       "      <td>0.897480</td>\n",
       "    </tr>\n",
       "    <tr>\n",
       "      <th>15</th>\n",
       "      <td>Fantasy</td>\n",
       "      <td>277</td>\n",
       "      <td>0.018464</td>\n",
       "      <td>0.915945</td>\n",
       "    </tr>\n",
       "    <tr>\n",
       "      <th>16</th>\n",
       "      <td>Western</td>\n",
       "      <td>249</td>\n",
       "      <td>0.016598</td>\n",
       "      <td>0.932542</td>\n",
       "    </tr>\n",
       "    <tr>\n",
       "      <th>17</th>\n",
       "      <td>Biography</td>\n",
       "      <td>222</td>\n",
       "      <td>0.014798</td>\n",
       "      <td>0.947340</td>\n",
       "    </tr>\n",
       "    <tr>\n",
       "      <th>18</th>\n",
       "      <td>War</td>\n",
       "      <td>183</td>\n",
       "      <td>0.012198</td>\n",
       "      <td>0.959539</td>\n",
       "    </tr>\n",
       "    <tr>\n",
       "      <th>19</th>\n",
       "      <td>Reality-TV</td>\n",
       "      <td>138</td>\n",
       "      <td>0.009199</td>\n",
       "      <td>0.968738</td>\n",
       "    </tr>\n",
       "    <tr>\n",
       "      <th>20</th>\n",
       "      <td>Adult</td>\n",
       "      <td>136</td>\n",
       "      <td>0.009065</td>\n",
       "      <td>0.977803</td>\n",
       "    </tr>\n",
       "    <tr>\n",
       "      <th>21</th>\n",
       "      <td>History</td>\n",
       "      <td>102</td>\n",
       "      <td>0.006799</td>\n",
       "      <td>0.984602</td>\n",
       "    </tr>\n",
       "    <tr>\n",
       "      <th>22</th>\n",
       "      <td>Sport</td>\n",
       "      <td>74</td>\n",
       "      <td>0.004933</td>\n",
       "      <td>0.989535</td>\n",
       "    </tr>\n",
       "    <tr>\n",
       "      <th>23</th>\n",
       "      <td>Sci-Fi</td>\n",
       "      <td>69</td>\n",
       "      <td>0.004599</td>\n",
       "      <td>0.994134</td>\n",
       "    </tr>\n",
       "    <tr>\n",
       "      <th>24</th>\n",
       "      <td>News</td>\n",
       "      <td>66</td>\n",
       "      <td>0.004399</td>\n",
       "      <td>0.998534</td>\n",
       "    </tr>\n",
       "    <tr>\n",
       "      <th>25</th>\n",
       "      <td>Film-Noir</td>\n",
       "      <td>12</td>\n",
       "      <td>0.000800</td>\n",
       "      <td>0.999333</td>\n",
       "    </tr>\n",
       "    <tr>\n",
       "      <th>26</th>\n",
       "      <td>Game-Show</td>\n",
       "      <td>10</td>\n",
       "      <td>0.000667</td>\n",
       "      <td>1.000000</td>\n",
       "    </tr>\n",
       "  </tbody>\n",
       "</table>\n",
       "</div>"
      ],
      "text/plain": [
       "         Genres  Count  Frequency  Cumulative_Freq\n",
       "0         Drama   3201   0.213372         0.213372\n",
       "1        Comedy   3135   0.208972         0.422344\n",
       "2         Short   1065   0.070991         0.493334\n",
       "3         Crime    851   0.056726         0.550060\n",
       "4   Documentary    851   0.056726         0.606786\n",
       "5     Adventure    748   0.049860         0.656646\n",
       "6       Romance    504   0.033596         0.690241\n",
       "7     Animation    469   0.031262         0.721504\n",
       "8        Family    459   0.030596         0.752100\n",
       "9      Thriller    420   0.027996         0.780096\n",
       "10       Horror    403   0.026863         0.806959\n",
       "11      Mystery    392   0.026130         0.833089\n",
       "12       Action    344   0.022930         0.856019\n",
       "13    Talk-Show    316   0.021064         0.877083\n",
       "14      Musical    306   0.020397         0.897480\n",
       "15      Fantasy    277   0.018464         0.915945\n",
       "16      Western    249   0.016598         0.932542\n",
       "17    Biography    222   0.014798         0.947340\n",
       "18          War    183   0.012198         0.959539\n",
       "19   Reality-TV    138   0.009199         0.968738\n",
       "20        Adult    136   0.009065         0.977803\n",
       "21      History    102   0.006799         0.984602\n",
       "22        Sport     74   0.004933         0.989535\n",
       "23       Sci-Fi     69   0.004599         0.994134\n",
       "24         News     66   0.004399         0.998534\n",
       "25    Film-Noir     12   0.000800         0.999333\n",
       "26    Game-Show     10   0.000667         1.000000"
      ]
     },
     "execution_count": 503,
     "metadata": {},
     "output_type": "execute_result"
    }
   ],
   "source": [
    "# Creamos una tabla de frequencia de distribución para quedarnos con los géneros que incluyen el 95% de los datos.\n",
    "gen_freq = mbg2.reset_index()\n",
    "gen_freq[\"Frequency\"] = gen_freq[\"Count\"]/len(gen_df)\n",
    "gen_freq[\"Cumulative_Freq\"] = gen_freq[\"Frequency\"].cumsum()\n",
    "gen_freq"
   ]
  },
  {
   "cell_type": "markdown",
   "metadata": {},
   "source": [
    "Ya que conocemos los géneros principales, filtremos nuestro dataframe original. Recordemos que debemos también\n",
    "sustituir \"Music\" por \"Musical\" en nuestos datos originales. En un primer intento de la clasificacion de los generos con los algoritmos de sklearn, ocurre que me está clasificando todas las películas como Drama o como Comedia, es por ello que vamos a disminuir la cantidad de películas seleccionadas de esos géneros para quitarles preponderancia. Adicionalmente, decido eliminar el genero \"Short\" ya que analizando sus plots no hay nada que los distinga del resto de los generos y esto puede disminuir la precision del modelo."
   ]
  },
  {
   "cell_type": "code",
   "execution_count": 504,
   "metadata": {},
   "outputs": [],
   "source": [
    "# Filtramos los generos que incluyen el 90% de los datos.\n",
    "top_genres = np.array([\"Comedy\",\"Horror\",\"Crime\"])\n",
    "#top_genres = np.array(gen_freq[(gen_freq[\"Cumulative_Freq\"]<=0.85) & ( gen_freq[\"Genres\"]!= \"Short\")][\"Genres\"])"
   ]
  },
  {
   "cell_type": "code",
   "execution_count": 505,
   "metadata": {},
   "outputs": [
    {
     "data": {
      "text/html": [
       "<div>\n",
       "<style scoped>\n",
       "    .dataframe tbody tr th:only-of-type {\n",
       "        vertical-align: middle;\n",
       "    }\n",
       "\n",
       "    .dataframe tbody tr th {\n",
       "        vertical-align: top;\n",
       "    }\n",
       "\n",
       "    .dataframe thead th {\n",
       "        text-align: right;\n",
       "    }\n",
       "</style>\n",
       "<table border=\"1\" class=\"dataframe\">\n",
       "  <thead>\n",
       "    <tr style=\"text-align: right;\">\n",
       "      <th></th>\n",
       "      <th>Genres</th>\n",
       "      <th>Plot</th>\n",
       "      <th>Title</th>\n",
       "      <th>Genres_split</th>\n",
       "    </tr>\n",
       "  </thead>\n",
       "  <tbody>\n",
       "    <tr>\n",
       "      <th>6</th>\n",
       "      <td>[Comedy]</td>\n",
       "      <td>Carter \"Doc\" McCoy and his wife Carol are taki...</td>\n",
       "      <td>The Getaway</td>\n",
       "      <td>Comedy</td>\n",
       "    </tr>\n",
       "    <tr>\n",
       "      <th>8</th>\n",
       "      <td>[Horror]</td>\n",
       "      <td>A small ship travels to a rotating space stati...</td>\n",
       "      <td>Warning from Space</td>\n",
       "      <td>Horror</td>\n",
       "    </tr>\n",
       "    <tr>\n",
       "      <th>13</th>\n",
       "      <td>[Comedy]</td>\n",
       "      <td>\"Clay Bidwell\" is a young man in a small town ...</td>\n",
       "      <td>Clay Pigeons</td>\n",
       "      <td>Comedy</td>\n",
       "    </tr>\n",
       "    <tr>\n",
       "      <th>14</th>\n",
       "      <td>[Comedy]</td>\n",
       "      <td>In the small town of Mercury, New Mexico (film...</td>\n",
       "      <td>Independence Day</td>\n",
       "      <td>Comedy</td>\n",
       "    </tr>\n",
       "    <tr>\n",
       "      <th>18</th>\n",
       "      <td>[Crime]</td>\n",
       "      <td>Millionaire businessman-sportsman Thomas Crown...</td>\n",
       "      <td>The Thomas Crown Affair</td>\n",
       "      <td>Crime</td>\n",
       "    </tr>\n",
       "    <tr>\n",
       "      <th>20</th>\n",
       "      <td>[Comedy]</td>\n",
       "      <td>The film revolves around Tobi, a middle-aged e...</td>\n",
       "      <td>Match</td>\n",
       "      <td>Comedy</td>\n",
       "    </tr>\n",
       "    <tr>\n",
       "      <th>35</th>\n",
       "      <td>[Comedy]</td>\n",
       "      <td>An introductory montage shows the fallout of t...</td>\n",
       "      <td>Red Dawn</td>\n",
       "      <td>Comedy</td>\n",
       "    </tr>\n",
       "    <tr>\n",
       "      <th>37</th>\n",
       "      <td>[Crime]</td>\n",
       "      <td>After a showgirl is found murdered shortly aft...</td>\n",
       "      <td>The Long Dark Hall</td>\n",
       "      <td>Crime</td>\n",
       "    </tr>\n",
       "    <tr>\n",
       "      <th>39</th>\n",
       "      <td>[Horror]</td>\n",
       "      <td>In the small mining village of Kitamatsu, on t...</td>\n",
       "      <td>Rodan</td>\n",
       "      <td>Horror</td>\n",
       "    </tr>\n",
       "    <tr>\n",
       "      <th>49</th>\n",
       "      <td>[Comedy]</td>\n",
       "      <td>In their prime, Pittsburgh boxers Henry \"Razor...</td>\n",
       "      <td>Grudge Match</td>\n",
       "      <td>Comedy</td>\n",
       "    </tr>\n",
       "    <tr>\n",
       "      <th>52</th>\n",
       "      <td>[Comedy]</td>\n",
       "      <td>After the passing of Maharaj Dhiraj Rana Chand...</td>\n",
       "      <td>Kohinoor</td>\n",
       "      <td>Comedy</td>\n",
       "    </tr>\n",
       "    <tr>\n",
       "      <th>56</th>\n",
       "      <td>[Comedy]</td>\n",
       "      <td>Harry Sterndale (Chris Rea) is told that he ha...</td>\n",
       "      <td>Parting Shots</td>\n",
       "      <td>Comedy</td>\n",
       "    </tr>\n",
       "    <tr>\n",
       "      <th>58</th>\n",
       "      <td>[Comedy]</td>\n",
       "      <td>George Kimball (Rock Hudson), a hypochondriac,...</td>\n",
       "      <td>Send Me No Flowers</td>\n",
       "      <td>Comedy</td>\n",
       "    </tr>\n",
       "    <tr>\n",
       "      <th>60</th>\n",
       "      <td>[Crime]</td>\n",
       "      <td>As a 1917 graduate of the Naval Academy, Naval...</td>\n",
       "      <td>Task Force</td>\n",
       "      <td>Crime</td>\n",
       "    </tr>\n",
       "    <tr>\n",
       "      <th>63</th>\n",
       "      <td>[Comedy]</td>\n",
       "      <td>Pat Riley is a chubby, whiny, and obnoxious jo...</td>\n",
       "      <td>It's Pat</td>\n",
       "      <td>Comedy</td>\n",
       "    </tr>\n",
       "    <tr>\n",
       "      <th>67</th>\n",
       "      <td>[Comedy]</td>\n",
       "      <td>Doug Stauber is the assistant manager of a bra...</td>\n",
       "      <td>The Promotion</td>\n",
       "      <td>Comedy</td>\n",
       "    </tr>\n",
       "    <tr>\n",
       "      <th>73</th>\n",
       "      <td>[Comedy]</td>\n",
       "      <td>While multi-millionaire Tom Mullen and his wif...</td>\n",
       "      <td>Ransom</td>\n",
       "      <td>Comedy</td>\n",
       "    </tr>\n",
       "    <tr>\n",
       "      <th>83</th>\n",
       "      <td>[Crime]</td>\n",
       "      <td>George Formby plays a Daily Sun compositor who...</td>\n",
       "      <td>Trouble Brewing</td>\n",
       "      <td>Crime</td>\n",
       "    </tr>\n",
       "    <tr>\n",
       "      <th>85</th>\n",
       "      <td>[Comedy]</td>\n",
       "      <td>In a Growth Opportunity graduation, a couple n...</td>\n",
       "      <td>Mother's Day</td>\n",
       "      <td>Comedy</td>\n",
       "    </tr>\n",
       "    <tr>\n",
       "      <th>87</th>\n",
       "      <td>[Comedy]</td>\n",
       "      <td>During a mission in the Middle East in 1997, p...</td>\n",
       "      <td>Kingsman: The Secret Service</td>\n",
       "      <td>Comedy</td>\n",
       "    </tr>\n",
       "    <tr>\n",
       "      <th>88</th>\n",
       "      <td>[Comedy]</td>\n",
       "      <td>An office team go on a two-day team-building s...</td>\n",
       "      <td>Welcome to the Jungle</td>\n",
       "      <td>Comedy</td>\n",
       "    </tr>\n",
       "    <tr>\n",
       "      <th>92</th>\n",
       "      <td>[Comedy]</td>\n",
       "      <td>My Six Convicts is the true story of a prison ...</td>\n",
       "      <td>My Six Convicts</td>\n",
       "      <td>Comedy</td>\n",
       "    </tr>\n",
       "    <tr>\n",
       "      <th>100</th>\n",
       "      <td>[Crime]</td>\n",
       "      <td>Reuniting with director Siodmak after their su...</td>\n",
       "      <td>Criss Cross</td>\n",
       "      <td>Crime</td>\n",
       "    </tr>\n",
       "    <tr>\n",
       "      <th>111</th>\n",
       "      <td>[Comedy]</td>\n",
       "      <td>Dr. Barnaby Fulton (Cary Grant), an absent-min...</td>\n",
       "      <td>Monkey Business</td>\n",
       "      <td>Comedy</td>\n",
       "    </tr>\n",
       "    <tr>\n",
       "      <th>113</th>\n",
       "      <td>[Crime]</td>\n",
       "      <td>The film is set in China in the late 210s – th...</td>\n",
       "      <td>The Assassins</td>\n",
       "      <td>Crime</td>\n",
       "    </tr>\n",
       "    <tr>\n",
       "      <th>114</th>\n",
       "      <td>[Comedy]</td>\n",
       "      <td>Jimmy Callahan (Kevin Hart) provides best man ...</td>\n",
       "      <td>The Wedding Ringer</td>\n",
       "      <td>Comedy</td>\n",
       "    </tr>\n",
       "    <tr>\n",
       "      <th>115</th>\n",
       "      <td>[Horror]</td>\n",
       "      <td>In Egypt in 1895, archaeologists John Banning ...</td>\n",
       "      <td>The Mummy</td>\n",
       "      <td>Horror</td>\n",
       "    </tr>\n",
       "    <tr>\n",
       "      <th>125</th>\n",
       "      <td>[Comedy]</td>\n",
       "      <td>Stella (Bette Midler) is a feisty woman workin...</td>\n",
       "      <td>Stella</td>\n",
       "      <td>Comedy</td>\n",
       "    </tr>\n",
       "    <tr>\n",
       "      <th>128</th>\n",
       "      <td>[Crime]</td>\n",
       "      <td>Singles centers on the precarious romantic liv...</td>\n",
       "      <td>Singles</td>\n",
       "      <td>Crime</td>\n",
       "    </tr>\n",
       "    <tr>\n",
       "      <th>136</th>\n",
       "      <td>[Comedy]</td>\n",
       "      <td>Two brothers become involved with criminals pl...</td>\n",
       "      <td>The Gilded Cage</td>\n",
       "      <td>Comedy</td>\n",
       "    </tr>\n",
       "    <tr>\n",
       "      <th>...</th>\n",
       "      <td>...</td>\n",
       "      <td>...</td>\n",
       "      <td>...</td>\n",
       "      <td>...</td>\n",
       "    </tr>\n",
       "    <tr>\n",
       "      <th>14902</th>\n",
       "      <td>[Comedy]</td>\n",
       "      <td>Holden McNeil (Ben Affleck) and Banky Edwards ...</td>\n",
       "      <td>Chasing Amy</td>\n",
       "      <td>Comedy</td>\n",
       "    </tr>\n",
       "    <tr>\n",
       "      <th>14904</th>\n",
       "      <td>[Comedy]</td>\n",
       "      <td>Vasu (Santhanam) and Saravanan (Arya) are best...</td>\n",
       "      <td>Vasuvum Saravananum Onna Padichavanga</td>\n",
       "      <td>Comedy</td>\n",
       "    </tr>\n",
       "    <tr>\n",
       "      <th>14905</th>\n",
       "      <td>[Comedy]</td>\n",
       "      <td>On October 31, 1988, Michael Myers (Don Shanks...</td>\n",
       "      <td>Halloween 5: The Revenge of Michael Myers</td>\n",
       "      <td>Comedy</td>\n",
       "    </tr>\n",
       "    <tr>\n",
       "      <th>14906</th>\n",
       "      <td>[Comedy]</td>\n",
       "      <td>Emma (Rachel Bilson) and Will (Tom Sturridge) ...</td>\n",
       "      <td>Waiting for Forever</td>\n",
       "      <td>Comedy</td>\n",
       "    </tr>\n",
       "    <tr>\n",
       "      <th>14910</th>\n",
       "      <td>[Crime]</td>\n",
       "      <td>Trying to put his life as a gunfighter behind ...</td>\n",
       "      <td>Gunfighters</td>\n",
       "      <td>Crime</td>\n",
       "    </tr>\n",
       "    <tr>\n",
       "      <th>14916</th>\n",
       "      <td>[Crime]</td>\n",
       "      <td>Mohan (Sathya) lives in Chennai. His two roomm...</td>\n",
       "      <td>Puthagam</td>\n",
       "      <td>Crime</td>\n",
       "    </tr>\n",
       "    <tr>\n",
       "      <th>14919</th>\n",
       "      <td>[Comedy]</td>\n",
       "      <td>Etienne Pimm (Charles Boyer) has an unusual wa...</td>\n",
       "      <td>Love Is a Ball</td>\n",
       "      <td>Comedy</td>\n",
       "    </tr>\n",
       "    <tr>\n",
       "      <th>14920</th>\n",
       "      <td>[Horror]</td>\n",
       "      <td>In 17th-century Hungary, recently widowed Coun...</td>\n",
       "      <td>Countess Dracula</td>\n",
       "      <td>Horror</td>\n",
       "    </tr>\n",
       "    <tr>\n",
       "      <th>14921</th>\n",
       "      <td>[Comedy]</td>\n",
       "      <td>Although she has no teaching experience, widow...</td>\n",
       "      <td>Her Twelve Men</td>\n",
       "      <td>Comedy</td>\n",
       "    </tr>\n",
       "    <tr>\n",
       "      <th>14924</th>\n",
       "      <td>[Comedy]</td>\n",
       "      <td>Eddie Harrington (Bud Abbott) and Albert Mansf...</td>\n",
       "      <td>In Society</td>\n",
       "      <td>Comedy</td>\n",
       "    </tr>\n",
       "    <tr>\n",
       "      <th>14931</th>\n",
       "      <td>[Comedy]</td>\n",
       "      <td>Banke Lal lives a fairly wealthy lifestyle in ...</td>\n",
       "      <td>Dildaar</td>\n",
       "      <td>Comedy</td>\n",
       "    </tr>\n",
       "    <tr>\n",
       "      <th>14933</th>\n",
       "      <td>[Comedy]</td>\n",
       "      <td>As in earlier film versions of Leiber's story ...</td>\n",
       "      <td>Witches' Brew</td>\n",
       "      <td>Comedy</td>\n",
       "    </tr>\n",
       "    <tr>\n",
       "      <th>14935</th>\n",
       "      <td>[Comedy]</td>\n",
       "      <td>Mohan (Mammootty) is an upper primary schoolte...</td>\n",
       "      <td>Best Actor</td>\n",
       "      <td>Comedy</td>\n",
       "    </tr>\n",
       "    <tr>\n",
       "      <th>14938</th>\n",
       "      <td>[Comedy]</td>\n",
       "      <td>Childhood friends Lonnie, Dominic, and G have ...</td>\n",
       "      <td>My Baby's Daddy</td>\n",
       "      <td>Comedy</td>\n",
       "    </tr>\n",
       "    <tr>\n",
       "      <th>14941</th>\n",
       "      <td>[Comedy]</td>\n",
       "      <td>Genji Togashi (Shōei) visits his brother's gra...</td>\n",
       "      <td>Sakigake!! Otokojuku</td>\n",
       "      <td>Comedy</td>\n",
       "    </tr>\n",
       "    <tr>\n",
       "      <th>14942</th>\n",
       "      <td>[Comedy]</td>\n",
       "      <td>The film is set in London in June 1911. George...</td>\n",
       "      <td>The Prince and the Showgirl</td>\n",
       "      <td>Comedy</td>\n",
       "    </tr>\n",
       "    <tr>\n",
       "      <th>14950</th>\n",
       "      <td>[Comedy]</td>\n",
       "      <td>Stranded in a small town in a downpour, the ma...</td>\n",
       "      <td>Thanks a Million</td>\n",
       "      <td>Comedy</td>\n",
       "    </tr>\n",
       "    <tr>\n",
       "      <th>14957</th>\n",
       "      <td>[Comedy]</td>\n",
       "      <td>The Stooges work for Miracle Detective Agency,...</td>\n",
       "      <td>For Crimin' Out Loud</td>\n",
       "      <td>Comedy</td>\n",
       "    </tr>\n",
       "    <tr>\n",
       "      <th>14962</th>\n",
       "      <td>[Comedy]</td>\n",
       "      <td>Nick Gardenia (Chevy Chase), an out-of-luck wr...</td>\n",
       "      <td>Seems Like Old Times</td>\n",
       "      <td>Comedy</td>\n",
       "    </tr>\n",
       "    <tr>\n",
       "      <th>14963</th>\n",
       "      <td>[Comedy]</td>\n",
       "      <td>Returning to his hometown of Carvel after seve...</td>\n",
       "      <td>Andy Hardy Comes Home</td>\n",
       "      <td>Comedy</td>\n",
       "    </tr>\n",
       "    <tr>\n",
       "      <th>14968</th>\n",
       "      <td>[Crime]</td>\n",
       "      <td>The intro shows a camera recording faces of co...</td>\n",
       "      <td>Pathology</td>\n",
       "      <td>Crime</td>\n",
       "    </tr>\n",
       "    <tr>\n",
       "      <th>14969</th>\n",
       "      <td>[Comedy]</td>\n",
       "      <td>The film looks at a Bengali joint family of Ko...</td>\n",
       "      <td>Maach Mishti &amp; More</td>\n",
       "      <td>Comedy</td>\n",
       "    </tr>\n",
       "    <tr>\n",
       "      <th>14974</th>\n",
       "      <td>[Comedy]</td>\n",
       "      <td>An ambulance chaser, unethical and disliked by...</td>\n",
       "      <td>The Chaser</td>\n",
       "      <td>Comedy</td>\n",
       "    </tr>\n",
       "    <tr>\n",
       "      <th>14979</th>\n",
       "      <td>[Horror]</td>\n",
       "      <td>A hobo arrives by boxcar in Hope Town, its wel...</td>\n",
       "      <td>Hobo with a Shotgun</td>\n",
       "      <td>Horror</td>\n",
       "    </tr>\n",
       "    <tr>\n",
       "      <th>14988</th>\n",
       "      <td>[Crime]</td>\n",
       "      <td>In Bangor, Maine in 1824, a cruel young girl n...</td>\n",
       "      <td>The Strange Woman</td>\n",
       "      <td>Crime</td>\n",
       "    </tr>\n",
       "    <tr>\n",
       "      <th>14989</th>\n",
       "      <td>[Crime]</td>\n",
       "      <td>With the assistance of a journalist a group of...</td>\n",
       "      <td>Judgment Deferred</td>\n",
       "      <td>Crime</td>\n",
       "    </tr>\n",
       "    <tr>\n",
       "      <th>14993</th>\n",
       "      <td>[Comedy]</td>\n",
       "      <td>Russian mafia boss Konstantine Konali (Ron Per...</td>\n",
       "      <td>Police Academy: Mission to Moscow</td>\n",
       "      <td>Comedy</td>\n",
       "    </tr>\n",
       "    <tr>\n",
       "      <th>14995</th>\n",
       "      <td>[Horror]</td>\n",
       "      <td>The story about the love and betrayal between ...</td>\n",
       "      <td>The Merciless</td>\n",
       "      <td>Horror</td>\n",
       "    </tr>\n",
       "    <tr>\n",
       "      <th>14998</th>\n",
       "      <td>[Comedy]</td>\n",
       "      <td>A couple of 1930s Great Depression-era convict...</td>\n",
       "      <td>We're No Angels</td>\n",
       "      <td>Comedy</td>\n",
       "    </tr>\n",
       "    <tr>\n",
       "      <th>15001</th>\n",
       "      <td>[Crime]</td>\n",
       "      <td>Both family and community are shaken by the un...</td>\n",
       "      <td>Delinquent Daughters</td>\n",
       "      <td>Crime</td>\n",
       "    </tr>\n",
       "  </tbody>\n",
       "</table>\n",
       "<p>4389 rows × 4 columns</p>\n",
       "</div>"
      ],
      "text/plain": [
       "         Genres                                               Plot  \\\n",
       "6      [Comedy]  Carter \"Doc\" McCoy and his wife Carol are taki...   \n",
       "8      [Horror]  A small ship travels to a rotating space stati...   \n",
       "13     [Comedy]  \"Clay Bidwell\" is a young man in a small town ...   \n",
       "14     [Comedy]  In the small town of Mercury, New Mexico (film...   \n",
       "18      [Crime]  Millionaire businessman-sportsman Thomas Crown...   \n",
       "20     [Comedy]  The film revolves around Tobi, a middle-aged e...   \n",
       "35     [Comedy]  An introductory montage shows the fallout of t...   \n",
       "37      [Crime]  After a showgirl is found murdered shortly aft...   \n",
       "39     [Horror]  In the small mining village of Kitamatsu, on t...   \n",
       "49     [Comedy]  In their prime, Pittsburgh boxers Henry \"Razor...   \n",
       "52     [Comedy]  After the passing of Maharaj Dhiraj Rana Chand...   \n",
       "56     [Comedy]  Harry Sterndale (Chris Rea) is told that he ha...   \n",
       "58     [Comedy]  George Kimball (Rock Hudson), a hypochondriac,...   \n",
       "60      [Crime]  As a 1917 graduate of the Naval Academy, Naval...   \n",
       "63     [Comedy]  Pat Riley is a chubby, whiny, and obnoxious jo...   \n",
       "67     [Comedy]  Doug Stauber is the assistant manager of a bra...   \n",
       "73     [Comedy]  While multi-millionaire Tom Mullen and his wif...   \n",
       "83      [Crime]  George Formby plays a Daily Sun compositor who...   \n",
       "85     [Comedy]  In a Growth Opportunity graduation, a couple n...   \n",
       "87     [Comedy]  During a mission in the Middle East in 1997, p...   \n",
       "88     [Comedy]  An office team go on a two-day team-building s...   \n",
       "92     [Comedy]  My Six Convicts is the true story of a prison ...   \n",
       "100     [Crime]  Reuniting with director Siodmak after their su...   \n",
       "111    [Comedy]  Dr. Barnaby Fulton (Cary Grant), an absent-min...   \n",
       "113     [Crime]  The film is set in China in the late 210s – th...   \n",
       "114    [Comedy]  Jimmy Callahan (Kevin Hart) provides best man ...   \n",
       "115    [Horror]  In Egypt in 1895, archaeologists John Banning ...   \n",
       "125    [Comedy]  Stella (Bette Midler) is a feisty woman workin...   \n",
       "128     [Crime]  Singles centers on the precarious romantic liv...   \n",
       "136    [Comedy]  Two brothers become involved with criminals pl...   \n",
       "...         ...                                                ...   \n",
       "14902  [Comedy]  Holden McNeil (Ben Affleck) and Banky Edwards ...   \n",
       "14904  [Comedy]  Vasu (Santhanam) and Saravanan (Arya) are best...   \n",
       "14905  [Comedy]  On October 31, 1988, Michael Myers (Don Shanks...   \n",
       "14906  [Comedy]  Emma (Rachel Bilson) and Will (Tom Sturridge) ...   \n",
       "14910   [Crime]  Trying to put his life as a gunfighter behind ...   \n",
       "14916   [Crime]  Mohan (Sathya) lives in Chennai. His two roomm...   \n",
       "14919  [Comedy]  Etienne Pimm (Charles Boyer) has an unusual wa...   \n",
       "14920  [Horror]  In 17th-century Hungary, recently widowed Coun...   \n",
       "14921  [Comedy]  Although she has no teaching experience, widow...   \n",
       "14924  [Comedy]  Eddie Harrington (Bud Abbott) and Albert Mansf...   \n",
       "14931  [Comedy]  Banke Lal lives a fairly wealthy lifestyle in ...   \n",
       "14933  [Comedy]  As in earlier film versions of Leiber's story ...   \n",
       "14935  [Comedy]  Mohan (Mammootty) is an upper primary schoolte...   \n",
       "14938  [Comedy]  Childhood friends Lonnie, Dominic, and G have ...   \n",
       "14941  [Comedy]  Genji Togashi (Shōei) visits his brother's gra...   \n",
       "14942  [Comedy]  The film is set in London in June 1911. George...   \n",
       "14950  [Comedy]  Stranded in a small town in a downpour, the ma...   \n",
       "14957  [Comedy]  The Stooges work for Miracle Detective Agency,...   \n",
       "14962  [Comedy]  Nick Gardenia (Chevy Chase), an out-of-luck wr...   \n",
       "14963  [Comedy]  Returning to his hometown of Carvel after seve...   \n",
       "14968   [Crime]  The intro shows a camera recording faces of co...   \n",
       "14969  [Comedy]  The film looks at a Bengali joint family of Ko...   \n",
       "14974  [Comedy]  An ambulance chaser, unethical and disliked by...   \n",
       "14979  [Horror]  A hobo arrives by boxcar in Hope Town, its wel...   \n",
       "14988   [Crime]  In Bangor, Maine in 1824, a cruel young girl n...   \n",
       "14989   [Crime]  With the assistance of a journalist a group of...   \n",
       "14993  [Comedy]  Russian mafia boss Konstantine Konali (Ron Per...   \n",
       "14995  [Horror]  The story about the love and betrayal between ...   \n",
       "14998  [Comedy]  A couple of 1930s Great Depression-era convict...   \n",
       "15001   [Crime]  Both family and community are shaken by the un...   \n",
       "\n",
       "                                           Title Genres_split  \n",
       "6                                    The Getaway       Comedy  \n",
       "8                             Warning from Space       Horror  \n",
       "13                                  Clay Pigeons       Comedy  \n",
       "14                              Independence Day       Comedy  \n",
       "18                       The Thomas Crown Affair        Crime  \n",
       "20                                         Match       Comedy  \n",
       "35                                      Red Dawn       Comedy  \n",
       "37                            The Long Dark Hall        Crime  \n",
       "39                                         Rodan       Horror  \n",
       "49                                  Grudge Match       Comedy  \n",
       "52                                      Kohinoor       Comedy  \n",
       "56                                 Parting Shots       Comedy  \n",
       "58                            Send Me No Flowers       Comedy  \n",
       "60                                    Task Force        Crime  \n",
       "63                                      It's Pat       Comedy  \n",
       "67                                 The Promotion       Comedy  \n",
       "73                                        Ransom       Comedy  \n",
       "83                               Trouble Brewing        Crime  \n",
       "85                                  Mother's Day       Comedy  \n",
       "87                  Kingsman: The Secret Service       Comedy  \n",
       "88                         Welcome to the Jungle       Comedy  \n",
       "92                               My Six Convicts       Comedy  \n",
       "100                                  Criss Cross        Crime  \n",
       "111                              Monkey Business       Comedy  \n",
       "113                                The Assassins        Crime  \n",
       "114                           The Wedding Ringer       Comedy  \n",
       "115                                    The Mummy       Horror  \n",
       "125                                       Stella       Comedy  \n",
       "128                                      Singles        Crime  \n",
       "136                              The Gilded Cage       Comedy  \n",
       "...                                          ...          ...  \n",
       "14902                                Chasing Amy       Comedy  \n",
       "14904      Vasuvum Saravananum Onna Padichavanga       Comedy  \n",
       "14905  Halloween 5: The Revenge of Michael Myers       Comedy  \n",
       "14906                        Waiting for Forever       Comedy  \n",
       "14910                                Gunfighters        Crime  \n",
       "14916                                   Puthagam        Crime  \n",
       "14919                             Love Is a Ball       Comedy  \n",
       "14920                           Countess Dracula       Horror  \n",
       "14921                             Her Twelve Men       Comedy  \n",
       "14924                                 In Society       Comedy  \n",
       "14931                                    Dildaar       Comedy  \n",
       "14933                              Witches' Brew       Comedy  \n",
       "14935                                 Best Actor       Comedy  \n",
       "14938                            My Baby's Daddy       Comedy  \n",
       "14941                       Sakigake!! Otokojuku       Comedy  \n",
       "14942                The Prince and the Showgirl       Comedy  \n",
       "14950                           Thanks a Million       Comedy  \n",
       "14957                       For Crimin' Out Loud       Comedy  \n",
       "14962                       Seems Like Old Times       Comedy  \n",
       "14963                      Andy Hardy Comes Home       Comedy  \n",
       "14968                                  Pathology        Crime  \n",
       "14969                        Maach Mishti & More       Comedy  \n",
       "14974                                 The Chaser       Comedy  \n",
       "14979                        Hobo with a Shotgun       Horror  \n",
       "14988                          The Strange Woman        Crime  \n",
       "14989                          Judgment Deferred        Crime  \n",
       "14993          Police Academy: Mission to Moscow       Comedy  \n",
       "14995                              The Merciless       Horror  \n",
       "14998                            We're No Angels       Comedy  \n",
       "15001                       Delinquent Daughters        Crime  \n",
       "\n",
       "[4389 rows x 4 columns]"
      ]
     },
     "execution_count": 505,
     "metadata": {},
     "output_type": "execute_result"
    }
   ],
   "source": [
    "movies[\"Genres\"] = movies[\"Genres\"].apply(lambda x: [\"Musical\" if word ==\"Music\" else word for word in x])\n",
    "movies['Genres_split'] = movies[\"Genres\"].apply(lambda x: x[0])\n",
    "movies = movies[movies[\"Genres_split\"].isin(top_genres)]\n",
    "movies"
   ]
  },
  {
   "cell_type": "code",
   "execution_count": 506,
   "metadata": {},
   "outputs": [],
   "source": [
    "max_cantidad = (movies[\"Genres_split\"].value_counts()).min()\n",
    "new_movies = pd.DataFrame()\n",
    "\n",
    "for genre in top_genres:\n",
    "    filtrado_por_genero = movies[movies[\"Genres_split\"]==genre]\n",
    "    genero = (filtrado_por_genero.sample(min(len(filtrado_por_genero),int(max_cantidad))))\n",
    "    new_movies = new_movies.append(genero)\n",
    "\n"
   ]
  },
  {
   "cell_type": "code",
   "execution_count": 507,
   "metadata": {},
   "outputs": [
    {
     "data": {
      "text/html": [
       "<div>\n",
       "<style scoped>\n",
       "    .dataframe tbody tr th:only-of-type {\n",
       "        vertical-align: middle;\n",
       "    }\n",
       "\n",
       "    .dataframe tbody tr th {\n",
       "        vertical-align: top;\n",
       "    }\n",
       "\n",
       "    .dataframe thead th {\n",
       "        text-align: right;\n",
       "    }\n",
       "</style>\n",
       "<table border=\"1\" class=\"dataframe\">\n",
       "  <thead>\n",
       "    <tr style=\"text-align: right;\">\n",
       "      <th></th>\n",
       "      <th>Genres_split</th>\n",
       "    </tr>\n",
       "  </thead>\n",
       "  <tbody>\n",
       "    <tr>\n",
       "      <th>Crime</th>\n",
       "      <td>403</td>\n",
       "    </tr>\n",
       "    <tr>\n",
       "      <th>Horror</th>\n",
       "      <td>403</td>\n",
       "    </tr>\n",
       "    <tr>\n",
       "      <th>Comedy</th>\n",
       "      <td>403</td>\n",
       "    </tr>\n",
       "  </tbody>\n",
       "</table>\n",
       "</div>"
      ],
      "text/plain": [
       "        Genres_split\n",
       "Crime            403\n",
       "Horror           403\n",
       "Comedy           403"
      ]
     },
     "execution_count": 507,
     "metadata": {},
     "output_type": "execute_result"
    }
   ],
   "source": [
    "# Vemos que ahora la cantidad de películas por géneros está más balanceado\n",
    "pd.DataFrame(new_movies[\"Genres_split\"].value_counts())"
   ]
  },
  {
   "cell_type": "markdown",
   "metadata": {},
   "source": [
    "Convirtamos a valores numéricos los géneros de las películas.Esto lo hacemos para preparar la información para el momento de la clasificación, ya que los algoritmos no entienden de palabras si no de valores numéricos."
   ]
  },
  {
   "cell_type": "code",
   "execution_count": 508,
   "metadata": {},
   "outputs": [],
   "source": [
    "le = preprocessing.LabelEncoder()\n",
    "labels = le.fit_transform(new_movies[\"Genres_split\"])\n",
    "new_movies[\"Genres_Label\"] = labels\n",
    "movies_cleaned = new_movies[[\"Plot\",\"Genres_Label\"]]"
   ]
  },
  {
   "cell_type": "code",
   "execution_count": 509,
   "metadata": {},
   "outputs": [
    {
     "data": {
      "text/html": [
       "<div>\n",
       "<style scoped>\n",
       "    .dataframe tbody tr th:only-of-type {\n",
       "        vertical-align: middle;\n",
       "    }\n",
       "\n",
       "    .dataframe tbody tr th {\n",
       "        vertical-align: top;\n",
       "    }\n",
       "\n",
       "    .dataframe thead th {\n",
       "        text-align: right;\n",
       "    }\n",
       "</style>\n",
       "<table border=\"1\" class=\"dataframe\">\n",
       "  <thead>\n",
       "    <tr style=\"text-align: right;\">\n",
       "      <th></th>\n",
       "      <th>Plot</th>\n",
       "      <th>Genres_Label</th>\n",
       "    </tr>\n",
       "  </thead>\n",
       "  <tbody>\n",
       "    <tr>\n",
       "      <th>14366</th>\n",
       "      <td>Cynthia Nelson (Mariette Hartley), a teacher a...</td>\n",
       "      <td>2</td>\n",
       "    </tr>\n",
       "    <tr>\n",
       "      <th>2746</th>\n",
       "      <td>Count Dracula (Carradine) arrives at the castl...</td>\n",
       "      <td>2</td>\n",
       "    </tr>\n",
       "    <tr>\n",
       "      <th>2811</th>\n",
       "      <td>Brandon Lang is a former college football star...</td>\n",
       "      <td>1</td>\n",
       "    </tr>\n",
       "    <tr>\n",
       "      <th>6599</th>\n",
       "      <td>John Tunstall (Terence Stamp), an educated Eng...</td>\n",
       "      <td>1</td>\n",
       "    </tr>\n",
       "    <tr>\n",
       "      <th>8344</th>\n",
       "      <td>The world turns upside down for three men, Vin...</td>\n",
       "      <td>0</td>\n",
       "    </tr>\n",
       "  </tbody>\n",
       "</table>\n",
       "</div>"
      ],
      "text/plain": [
       "                                                    Plot  Genres_Label\n",
       "14366  Cynthia Nelson (Mariette Hartley), a teacher a...             2\n",
       "2746   Count Dracula (Carradine) arrives at the castl...             2\n",
       "2811   Brandon Lang is a former college football star...             1\n",
       "6599   John Tunstall (Terence Stamp), an educated Eng...             1\n",
       "8344   The world turns upside down for three men, Vin...             0"
      ]
     },
     "execution_count": 509,
     "metadata": {},
     "output_type": "execute_result"
    }
   ],
   "source": [
    "# Mezclamos un poco los datos para que no esten ordenados al momento de aplicar al algoritmo.\n",
    "movies_cleaned = shuffle(movies_cleaned)\n",
    "movies_cleaned.head()"
   ]
  },
  {
   "cell_type": "markdown",
   "metadata": {},
   "source": [
    "Utilicemos OneHotEncoding para transformar los géneros en columnas con unos y ceros dependiendo de si el género corresponde a esa película o no respectivamente. Esto lo hacemos ya que los algoritmos no entienden de palabras si no de valores numéricos"
   ]
  },
  {
   "cell_type": "code",
   "execution_count": 510,
   "metadata": {},
   "outputs": [],
   "source": [
    "# movies = pd.concat([movies, movies.Genres.apply(lambda x: ','.join(x)).str.get_dummies(sep=',')], axis=1)"
   ]
  },
  {
   "cell_type": "code",
   "execution_count": 511,
   "metadata": {},
   "outputs": [],
   "source": [
    "# movies_cleaned = movies.drop([\"Genres\",\"Genres_str\"],axis=1)\n",
    "# movies_cleaned.head(3)"
   ]
  },
  {
   "cell_type": "markdown",
   "metadata": {},
   "source": [
    "### Limpieza de los plots"
   ]
  },
  {
   "cell_type": "markdown",
   "metadata": {},
   "source": [
    "Comenzamos por crear una serie de funciones que nos permitirán limpiar los plots. Lemmatize convierte distintas palabras de igual significado en la misma, luego las regular expressions y RemoveCharDigit se quedan solo con palabras eliminando números y caractéres especiales, así como conviertiendo palabras compuestas en palabras separadas. "
   ]
  },
  {
   "cell_type": "code",
   "execution_count": 512,
   "metadata": {},
   "outputs": [],
   "source": [
    "stop_words = stopwords.words(\"english\")\n",
    "Stop_word_TryAndError = [\"ha\",\"wa\",\"one\",\"get\",\"take\",\"go\",\"back\",\"tell\",\"two\",\"make\",\"see\",\"come\",\"hi\",\"tri\",\"him\",'thi',\"onli\",\"him\",\"also\",\"later\"]\n",
    "lemma=WordNetLemmatizer()\n",
    "token=ToktokTokenizer()\n",
    "stemmer = PorterStemmer()"
   ]
  },
  {
   "cell_type": "code",
   "execution_count": 529,
   "metadata": {},
   "outputs": [],
   "source": [
    "def lemitizeWords(text):\n",
    "    listLemma = []\n",
    "    words=token.tokenize(text)\n",
    "    stem = [stemmer.stem(word) for word in words]\n",
    "    for w in stem:\n",
    "        x=lemma.lemmatize(w)\n",
    "        listLemma.append(x)\n",
    "    return listLemma\n",
    "\n",
    "def stopWordsRemove(text):\n",
    "    wordList =[x.lower().strip() for x in token.tokenize(text)]\n",
    "    removedList=[x for x in wordList if x not in stop_words and x not in Stop_word_TryAndError]\n",
    "    text=\" \".join(removedList)\n",
    "    return text\n",
    "\n",
    "def removeCharDigit(text):\n",
    "    str=\"1234567890-=~@#$%^&*()_+[!{;”:\\’><.,/?”}]\"\n",
    "    for w in text:\n",
    "        if w in str:\n",
    "            text=text.replace(w,\"\")\n",
    "    return text\n",
    "def clean_text(text):\n",
    "    text = text.lower()\n",
    "    text = re.sub(r\"what's\", \"what is \", text)\n",
    "    text = re.sub(r\"\\'s\", \" \", text)\n",
    "    text = re.sub(r\"\\'ve\", \" have \", text)\n",
    "    text = re.sub(r\"can't\", \"can not \", text)\n",
    "    text = re.sub(r\"n't\", \" not \", text)\n",
    "    text = re.sub(r\"i'm\", \"i am \", text)\n",
    "    text = re.sub(r\"\\'re\", \" are \", text)\n",
    "    text = re.sub(r\"\\'d\", \" would \", text)\n",
    "    text = re.sub(r\"\\'ll\", \" will \", text)\n",
    "    text = re.sub(r\"\\'scuse\", \" excuse \", text)\n",
    "    text = re.sub('\\W', ' ', text)\n",
    "    text = re.sub('\\s+', ' ', text)\n",
    "    text = text.strip(' ')\n",
    "    return text\n",
    "\n",
    "def PreProcessing(text):\n",
    "    text = lemitizeWords(text)\n",
    "    text = stopWordsRemove(text)\n",
    "    text = clean_text(text)\n",
    "    text = removeCharDigit(text)   \n",
    "    return(text)\n",
    "\n",
    "def preprocessing2(x):\n",
    "    alo = nltk.FreqDist([word for word in x.split()]).most_common(130)\n",
    "    return \" \".join([ word[0] for word in alo])"
   ]
  },
  {
   "cell_type": "code",
   "execution_count": 530,
   "metadata": {},
   "outputs": [
    {
     "name": "stdout",
     "output_type": "stream",
     "text": [
      "Por ejemplo, la frase: In 1973, ten-year-old Eddie Edwards dreams of Olympic glory, practicing in various Olympic events and failing miserably. His mother unconditionally supports him, while his father constantly discourages him. As a young teen, he gives up his dream of participating in the Summer Games in favour of skiing in the Winter Games. Although successful at the sport, he is rejected by British Olympic officials for being uncouth. Realizing he could make the team as a ski jumper (a sport in which the United Kingdom had not participated in six decades), he decamps to a training facility in Garmisch-Partenkirchen, Germany. The more seasoned jumpers, specifically those on the Norwegian team, belittle him.\r\n",
      "He self-trains, and after successfully completing the 15-metre (49 ft) hill on his first try, he injures himself on his first try from a 40-metre (130 ft) hill. Alcoholic snow groomer Bronson Peary encourages Eddie to give up, but Eddie's tenacious spirit and shared feelings of ostracism by the other jumpers there convince him to train Eddie. Peary is a former champion American ski jumper who left the sport in his 20s after a conflict with his mentor, famous ski jumper Warren Sharp, which Eddie learns from Petra, the kindly owner of a nearby tavern. With very little time to qualify for the 1988 Winter Olympics in Calgary, Alberta, Eddie and Bronson employ various unorthodox methods to condition and refine Eddie's form, and he successfully completes the 40m hill.\r\n",
      "To qualify for the British Olympic division in ski jumping, Eddie only needs to complete a jump from a 70-metre (230 ft) hill in order to qualify for the Winter Olympics. Not long after, he manages to land the jump successfully, with a distance of 34 metres (112 ft), thus winning a place on the British Olympic Team. However, the officials, in an effort to keep Eddie from sullying the Winter Games with his amateurish skillset, decide to change the rules and demand that he jump at least 61 metres (200 ft). Though discouraged, Eddie decides to continue training and performs on a circuit, his jumps increasing in length each time, but unable to meet the Olympic requirements. During a practice jump at the final event before the cutoff date for qualification, he lands a 61m jump exactly, but on his official jump, he falls and is disqualified. Eddie is devastated and resolves to return home to work with his father as a plasterer, but he receives a letter claiming that his qualifying practice jump is valid, and he happily tells Bronson that he's eligible to compete in the Winter Olympics. Bronson tries to dissuade him, promising that he will make a complete fool of himself and his country if he goes, but Eddie is undeterred, noting that competing in the Olympics was always enough for him.\r\n",
      "Upon arriving in Calgary, he receives instant scorn from the other British athletes, who get him drunk and nearly provoke him into fighting after he is subsequently absent from the opening ceremonies. Despite finishing last in the 70m jump with 60.5 metres (198 ft), Eddie sets a British record. His triumphant celebrations win the audience over, and the media embrace him as Eddie \"The Eagle\". Over the phone, Bronson criticises Edwards for not taking the sport seriously. Edwards publicly apologizes to the press for his antics, and wanting to ensure he does not leave the games as little more than a novelty, he enters the 90-metre (300 ft) jump, which he had never attempted before. Bronson decides to travel to the games and support him. After an encouraging conversation with his idol Matti \"The Flying Finn\" Nykänen on the lift to the top of the hill, Eddie barely manages to land a 71.5-metre (235 ft) jump. Once again, he scores last in the event, but is nonetheless cheered by the audience as well as millions around the world, which includes a playful salute in the closing speech of the President of the Organising Committee for the Olympic Games, Frank King. British Olympic officials grudgingly accept him.\r\n",
      "Warren Sharp reconciles with Bronson, who was present, and Edwards returns home a national hero to the cheers of his fans at the airport, his mother rushes to him embracing him. And as Eddie looks to his father, he reveals a jumper declaring his support before then embracing Eddie as well.\n",
      "\n",
      "Se convierte en:\n",
      "\n",
      " ten year old eddi edward dream olymp glori practic variou olymp event fail miserably mother uncondit support father constantli discourag him young teen give dream particip summer game favour ski winter games although success sport reject british olymp offici uncouth realiz could team ski jumper sport unit kingdom particip six decad decamp train facil garmisch partenkirchen germany season jumper specif norwegian team belittl him self train success complet  metr  ft hill first injur first  metr  ft hill alcohol snow groomer bronson peari encourag eddi give eddi tenaci spirit share feel ostrac jumper convinc train eddie peari former champion american ski jumper left sport  conflict mentor famou ski jumper warren sharp eddi learn petra kindli owner nearbi tavern veri littl time qualifi  winter olymp calgari alberta eddi bronson employ variou unorthodox method condit refin eddi form success complet m hill qualifi british olymp divis ski jump eddi need complet jump  metr  ft hill order qualifi winter olympics long manag land jump success distanc  metr  ft thu win place british olymp team howev offici effort keep eddi sulli winter game amateurish skillset decid chang rule demand jump least  metr  ft though discourag eddi decid continu train perform circuit jump increas length time unabl meet olymp requirements dure practic jump final event befor cutoff date qualif land m jump exactli offici jump fall disqualified eddi devast resolv return home work father plaster receiv letter claim qualifi practic jump valid happili bronson elig compet winter olympics bronson dissuad promis complet fool countri goe eddi undet note compet olymp alway enough him upon arriv calgari receiv instant scorn british athlet drunk nearli provok fight subsequ absent open ceremonies despit finish last m jump   metr  ft eddi set british record triumphant celebr win audienc medium embrac eddi eagl phone bronson criticis edward sport seriously edward publicli apolog press antic want ensur doe leav game littl novelti enter  metr  ft jump never attempt before bronson decid travel game support him encourag convers idol matti fli finn nykänen lift top hill eddi bare manag land   metr  ft jump onc score last event nonetheless cheer audienc well million around world includ play salut close speech presid organis committe olymp game frank king british olymp offici grudgingli accept him warren sharp reconcil bronson present edward return home nation hero cheer fan airport mother rush embrac him eddi look father reveal jumper declar support befor embrac eddi well\n"
     ]
    }
   ],
   "source": [
    "ejemplo = \" \".join(movies_cleaned[[\"Plot\"]].iloc[9].tolist())\n",
    "print(\"Por ejemplo, la frase: {}\".format(ejemplo))\n",
    "print(\"\\nSe convierte en:\")\n",
    "print(\"\\n{}\".format(PreProcessing(ejemplo)))"
   ]
  },
  {
   "cell_type": "code",
   "execution_count": 531,
   "metadata": {},
   "outputs": [],
   "source": [
    "# Apliquemos la funcion a todos los plots. \n",
    "movies_cleaned[\"plot_cleaned\"] = movies_cleaned[\"Plot\"].apply(lambda x : PreProcessing(x)).apply(lambda x: preprocessing2(x))"
   ]
  },
  {
   "cell_type": "markdown",
   "metadata": {},
   "source": [
    "### Análisis de las palabras de los plots "
   ]
  },
  {
   "cell_type": "code",
   "execution_count": 555,
   "metadata": {
    "scrolled": true
   },
   "outputs": [
    {
     "data": {
      "text/plain": [
       "<matplotlib.image.AxesImage at 0x126acda90>"
      ]
     },
     "execution_count": 555,
     "metadata": {},
     "output_type": "execute_result"
    },
    {
     "data": {
      "image/png": "[encoded data removed]",
      "text/plain": [
       "<Figure size 864x720 with 1 Axes>"
      ]
     },
     "metadata": {},
     "output_type": "display_data"
    }
   ],
   "source": [
    "totalText=\"\"\n",
    "for words in movies_cleaned[\"plot_cleaned\"]:\n",
    "    totalText += words\n",
    "\n",
    "wc=WordCloud(background_color=\"black\",max_font_size=50).generate(totalText)\n",
    "plt.figure(figsize=(12,10))\n",
    "plt.imshow(wc, interpolation=\"bilinear\")"
   ]
  },
  {
   "cell_type": "markdown",
   "metadata": {},
   "source": [
    "### Frecuencia con la que aparecen las palabras "
   ]
  },
  {
   "cell_type": "code",
   "execution_count": 533,
   "metadata": {},
   "outputs": [
    {
     "data": {
      "image/png": "[encoded data removed]",
      "text/plain": [
       "<Figure size 1152x360 with 1 Axes>"
      ]
     },
     "metadata": {},
     "output_type": "display_data"
    }
   ],
   "source": [
    "x=nltk.FreqDist(ToktokTokenizer().tokenize(totalText))\n",
    "\n",
    "plt.figure(figsize=(16,5))\n",
    "x.plot(25)"
   ]
  },
  {
   "cell_type": "markdown",
   "metadata": {},
   "source": [
    "Modifiquemos las palabras con one hot encoding, para ello utilizamos CountVectorier y TfidfTransformer"
   ]
  },
  {
   "cell_type": "code",
   "execution_count": 534,
   "metadata": {},
   "outputs": [],
   "source": [
    "encode = movies_cleaned.loc[:,\"plot_cleaned\"]\n",
    "cv= CountVectorizer().fit(encode)\n",
    "count_vect = pd.DataFrame(cv.transform(encode).todense(),columns=cv.get_feature_names())\n",
    "tfidfhead=TfidfTransformer().fit(count_vect)\n",
    "transformed =pd.DataFrame(tfidfhead.transform(count_vect).todense(),columns=cv.get_feature_names())"
   ]
  },
  {
   "cell_type": "markdown",
   "metadata": {},
   "source": [
    "### Clasificacion - Entrenamiento y prueba de modelos "
   ]
  },
  {
   "cell_type": "code",
   "execution_count": 535,
   "metadata": {},
   "outputs": [],
   "source": [
    "X = transformed\n",
    "y = movies_cleaned[\"Genres_Label\"]"
   ]
  },
  {
   "cell_type": "markdown",
   "metadata": {},
   "source": [
    "#### Random Forrest with GridSearch and 5 CVF. "
   ]
  },
  {
   "cell_type": "code",
   "execution_count": 537,
   "metadata": {},
   "outputs": [
    {
     "name": "stdout",
     "output_type": "stream",
     "text": [
      "{'n_estimators': 100}\n",
      "0.6583953680727874\n"
     ]
    }
   ],
   "source": [
    "# Random Forest Classifier \n",
    "param_grid = {\"n_estimators\" : [50,100,150]}\n",
    "rf = RandomForestClassifier()\n",
    "rf_cv = GridSearchCV(rf,param_grid,cv=5)\n",
    "rf_cv.fit(X,y)\n",
    "print(rf_cv.best_params_)\n",
    "print(rf_cv.best_score_)"
   ]
  },
  {
   "cell_type": "markdown",
   "metadata": {},
   "source": [
    "### Probamos con 3 modelos a ver los resultados. "
   ]
  },
  {
   "cell_type": "code",
   "execution_count": 553,
   "metadata": {},
   "outputs": [
    {
     "name": "stdout",
     "output_type": "stream",
     "text": [
      "Clasificador: Linear_SVC, Accuracy:0.6706069958847737\n",
      "Clasificador: Logistic_Regression, Accuracy:0.6929526748971193\n",
      "Clasificador: Gaussian_NB, Accuracy:0.5541152263374486\n"
     ]
    }
   ],
   "source": [
    "Linear_SVC = LinearSVC()\n",
    "Logistic_Regression = LogisticRegression()\n",
    "Gaussian_NB = GaussianNB()\n",
    "\n",
    "clasificadores = {\"Linear_SVC\":Linear_SVC,\"Logistic_Regression\":Logistic_Regression,\"Gaussian_NB\":Gaussian_NB}\n",
    "\n",
    "for k,v in clasificadores.items():\n",
    "    cv_results = cross_val_score(v,X,y,cv=5)\n",
    "    print('Clasificador: {}, Accuracy:{}'.format(k,np.mean(cv_results)))\n"
   ]
  },
  {
   "cell_type": "code",
   "execution_count": 551,
   "metadata": {},
   "outputs": [],
   "source": [
    "X_train,X_test,y_train,y_test = train_test_split(X,y,test_size=0.25)\n",
    "lr = LogisticRegression()\n",
    "lr.fit(X_train,y_train)\n",
    "y_pred = lr.predict(X_test)\n",
    "cm = confusion_matrix(y_test,y_pred)"
   ]
  },
  {
   "cell_type": "code",
   "execution_count": 495,
   "metadata": {},
   "outputs": [],
   "source": [
    "def confusionMatrixHeatmap(cm, labels):\n",
    "    totals = cm.sum(axis=1)\n",
    "    cm_total = (np.ones(cm.shape)*totals).transpose()\n",
    "    m2 = np.round(((cm/cm_total)*100).astype(float))\n",
    "    np.set_printoptions(precision=2)\n",
    "    f, ax=plt.subplots(figsize=(7.5,5))\n",
    "    sns.heatmap(m2, annot=True, linecolor='white', linewidths=0.2,\n",
    "                xticklabels=labels, yticklabels=labels)\n",
    "    ax.set_title('CONFUSION MATRIX')\n",
    "    plt.xlabel('Classified as')\n",
    "    plt.ylabel('Real Values')"
   ]
  },
  {
   "cell_type": "code",
   "execution_count": 552,
   "metadata": {},
   "outputs": [
    {
     "data": {
      "image/png": "[encoded data removed]",
      "text/plain": [
       "<Figure size 540x360 with 2 Axes>"
      ]
     },
     "metadata": {},
     "output_type": "display_data"
    }
   ],
   "source": [
    "labels_mov = le.inverse_transform(list(set(labels))).tolist()\n",
    "cm2 = confusionMatrixHeatmap(cm,labels_mov)\n",
    "cm2\n"
   ]
  },
  {
   "cell_type": "markdown",
   "metadata": {},
   "source": [
    "Conclusión: Obtenemos una precisión del 70% aproximadamente, lo cual no está tan mal, vemos que donde más se equivoca el clasificador es con la comedia ... probemos varios plots a ver que obtenemos. "
   ]
  },
  {
   "cell_type": "code",
   "execution_count": 424,
   "metadata": {},
   "outputs": [],
   "source": [
    "# Book Club -\n",
    "comedia = \"Four longtime friends and book club members Diane Keaton, Jane Fonda, Candice Bergen and Mary Steenburgen have their lives upended when they aim to spice up their mundane routines by reading the provocative bestseller Fifty Shades of Grey. With newfound confidence, they each begin to come alive as exciting romances are ignited and old flames are rekindled. Through it all, the ladies inspire one other to make this next stage of their lives the best and steamiest thus far.\"\n",
    "# The Spy Who Dumped Me - \n",
    "comedia2  = \"Audrey (Mila Kunis) and Morgan (Kate McKinnon), two thirty-year-old best friends in Los Angeles, are thrust unexpectedly into an international conspiracy when Audrey’s ex-boyfriend shows up at their apartment with a team of deadly assassins on his trail. Surprising even themselves, the duo jump into action, on the run throughout Europe from assassins and a suspicious-but-charming British agent, as they hatch a plan to save the world.\"\n",
    "\n",
    "# Den of Thieves - \n",
    "crimen = \"A gritty crime saga which follows the lives of an elite unit of the LA County Sheriff's Dept. and the state's most successful bank robbery crew as the outlaws plan a seemingly impossible heist on the Federal Reserve Bank.\"\n",
    "# Gladiator - El gladiador \n",
    "crimen2 = \"A former Roman General sets out to exact vengeance against the corrupt emperor who murdered his family and sent him into slavery.\"\n",
    "\n",
    "# The num - La monja\n",
    "horror = \"A priest with a haunted past and a novice on the threshold of her final vows are sent by the Vatican to investigate the death of a young nun in Romania and confront a malevolent force in the form of a demonic nun.\"\n",
    "horror_larga = \"In 1952 Romania, two Roman Catholic nuns living at the Saint Cartha's monastery are attacked by an unseen force when they enter a tunnel to retrieve an ancient Christian relic. The surviving nun, Sister Victoria, flees from the attacker, a demon appearing as a nun, and hangs herself. Her body is discovered by Frenchie, a villager who transports supplies to the nuns. The Vatican learns of the incident and summons Father Burke to Rome, where they ask him to travel with Sister Irene, a nun in her novitiate, to Romania in order to investigate the situation. While Sr. Irene is teaching children the relationship between religion and science in a school, her Mother Superior interrupts her and informs her that Burke has arrived in order to request Irene's accompaniment in his trip to Romania. The pair travel to Romania and meet with Frenchie, who leads them to the abbey. They discover Victoria's body and remove a key from her corpse. Inside, they encounter the Abbess, who informs them that the nuns observe a period of silence during the night and offers them lodging at the attached convent if they wish to return the next day. Frenchie is attacked by a demon as he returns to the village, but escapes. Burke tells Irene that a boy he exorcised, Daniel, was fatally injured during the exorcism, and Burke has carried the burden of the boy's death with him ever since. Irene reveals that as a girl, she had visions particularly of a nun, causing the Church to take an interest in her. Burke is rescued by Irene after being buried alive in the graveyard by the demonic entity..\"\n",
    "# Hereditary - El legado del diablo\n",
    "horror2 = \"After the family matriarch passes away, a grieving family is haunted by tragic and disturbing occurrences, and begin to unravel dark secrets.\"\n",
    "# The rite - El rito\n",
    "horror3 = \"An American seminary student travels to Italy to take an exorcism course.\"\n",
    "horror3_larga = \"Michael, the son of a funeral director grows indifferent to his father and joins a Seminary. On his way to the course completion, he is overwhelmed by a strong lack of faith. His religious beliefs are further jolted when he sees a young girl haplessly dying in a road accident for whom he reluctantly performs the ritual to absolve her sins. His mentor still believes in him and urges him to go to Italy to take an exorcism course hoping that he it would strengthen his faith in Christianity. In Italy he attends a session from Father Xavier who soon becomes aware of his skepticism. As a result he sends him to an eminent Jesuit exorcist, Father Lucas, whose ways though questionable are quite effective. He witnesses the exorcism of a sixteen year old girl but still seems unconvinced. Father Lucas explains to him that it takes multiple sessions over a long stretch of time to completely free a victim from the demon. Despite witnessing some supernatural occurrences during the aforesaid exorcism, Michael is as skeptical as ever. After the second exorcism, the girls condition becomes quite critical as she is moved to a hospital. She soon dies and the demon finds a new victim. As the moment of reckoning draws near, Micheal may be the only hope left but first he must overcome his own doubts and apprehensions in order to fight and destroy the ominous forces\"\n",
    "\n",
    "\n",
    "\n"
   ]
  },
  {
   "cell_type": "code",
   "execution_count": 425,
   "metadata": {},
   "outputs": [],
   "source": [
    "def conv_pelicula(x): \n",
    "    return preprocessing2(PreProcessing(x))\n"
   ]
  },
  {
   "cell_type": "code",
   "execution_count": 426,
   "metadata": {},
   "outputs": [],
   "source": [
    "lista = conv_pelicula(horror3_larga)\n",
    "palabras = np.array(X.columns)\n",
    "vacia = []\n",
    "for palabra in palabras:\n",
    "    if palabra in lista:\n",
    "        vacia.append(1)\n",
    "    else:\n",
    "        vacia.append(0)"
   ]
  },
  {
   "cell_type": "code",
   "execution_count": 427,
   "metadata": {},
   "outputs": [],
   "source": [
    "vacia = np.array(vacia)\n",
    "prueba2 = vacia.reshape(1,-1)"
   ]
  },
  {
   "cell_type": "code",
   "execution_count": 428,
   "metadata": {},
   "outputs": [
    {
     "data": {
      "text/html": [
       "<div>\n",
       "<style scoped>\n",
       "    .dataframe tbody tr th:only-of-type {\n",
       "        vertical-align: middle;\n",
       "    }\n",
       "\n",
       "    .dataframe tbody tr th {\n",
       "        vertical-align: top;\n",
       "    }\n",
       "\n",
       "    .dataframe thead th {\n",
       "        text-align: right;\n",
       "    }\n",
       "</style>\n",
       "<table border=\"1\" class=\"dataframe\">\n",
       "  <thead>\n",
       "    <tr style=\"text-align: right;\">\n",
       "      <th></th>\n",
       "      <th>Comedy</th>\n",
       "      <th>Crime</th>\n",
       "      <th>Horror</th>\n",
       "    </tr>\n",
       "  </thead>\n",
       "  <tbody>\n",
       "    <tr>\n",
       "      <th>0</th>\n",
       "      <td>0.036754</td>\n",
       "      <td>0.003553</td>\n",
       "      <td>0.959693</td>\n",
       "    </tr>\n",
       "  </tbody>\n",
       "</table>\n",
       "</div>"
      ],
      "text/plain": [
       "     Comedy     Crime    Horror\n",
       "0  0.036754  0.003553  0.959693"
      ]
     },
     "execution_count": 428,
     "metadata": {},
     "output_type": "execute_result"
    }
   ],
   "source": [
    "clf = LogisticRegression().fit(X,y)\n",
    "\n",
    "pd.DataFrame(clf.predict_proba(prueba2),columns=le.inverse_transform(list(set(labels))))"
   ]
  },
  {
   "cell_type": "code",
   "execution_count": 312,
   "metadata": {},
   "outputs": [
    {
     "data": {
      "text/plain": [
       "44"
      ]
     },
     "execution_count": 312,
     "metadata": {},
     "output_type": "execute_result"
    }
   ],
   "source": [
    "\n"
   ]
  },
  {
   "cell_type": "code",
   "execution_count": null,
   "metadata": {},
   "outputs": [],
   "source": []
  },
  {
   "cell_type": "markdown",
   "metadata": {},
   "source": [
    "Probamos con distintos clasificadores con distintas estrategias de multiclasificacion"
   ]
  },
  {
   "cell_type": "code",
   "execution_count": null,
   "metadata": {},
   "outputs": [],
   "source": [
    "# initialize binary relevance multi-label classifier\n",
    "# with a gaussian naive bayes base classifier\n",
    "classifier = BinaryRelevance(GaussianNB())\n",
    "classifier.fit(xtrain.astype(float), ytrain.astype(float))\n",
    "predictions = classifier.predict(xtest.astype(float))\n",
    "accuracy_score(ytest.astype(float),predictions)"
   ]
  },
  {
   "cell_type": "code",
   "execution_count": null,
   "metadata": {},
   "outputs": [],
   "source": [
    "\n",
    "\n",
    "# initialize classifier chains multi-label classifier\n",
    "# with a gaussian naive bayes base classifier\n",
    "classifier = ClassifierChain(GaussianNB())\n",
    "\n",
    "# train\n",
    "classifier.fit(xtrain.astype(float), ytrain.astype(float))\n",
    "\n",
    "# predict\n",
    "predictions = classifier.predict(xtest.astype(float))\n",
    "accuracy_score(ytest.astype(float),predictions)"
   ]
  },
  {
   "cell_type": "code",
   "execution_count": null,
   "metadata": {},
   "outputs": [],
   "source": [
    "# initialize Label Powerset multi-label classifier\n",
    "# with a gaussian naive bayes base classifierfrom skmultilearn.problem_transform import LabelPowerset\n",
    "\n",
    "classifier = LabelPowerset(GaussianNB())\n",
    "classifier.fit(xtrain.astype(float), ytrain.astype(float))\n",
    "predictions = classifier.predict(xtest.astype(float))\n",
    "accuracy_score(ytest.astype(float),predictions)"
   ]
  },
  {
   "cell_type": "code",
   "execution_count": null,
   "metadata": {},
   "outputs": [],
   "source": [
    "clf=OneVsRestClassifier(MultinomialNB())\n",
    "clf.fit(x,y)\n",
    "pred=clf.predict(x)\n",
    "accuracy_score(y,pred)"
   ]
  },
  {
   "cell_type": "markdown",
   "metadata": {},
   "source": [
    "## Lets Split our data between train and test and test some classifiers"
   ]
  },
  {
   "cell_type": "code",
   "execution_count": null,
   "metadata": {},
   "outputs": [],
   "source": []
  },
  {
   "cell_type": "code",
   "execution_count": null,
   "metadata": {},
   "outputs": [],
   "source": [
    "# LogReg_pipeline = Pipeline([\n",
    "#                 ('tfidf', TfidfVectorizer(stop_words=stop_words,ngram_range=(1,3))),\n",
    "#                 ('clf', OneVsRestClassifier(LogisticRegression(solver='sag'), n_jobs=1)),\n",
    "#             ])\n",
    "TOKENS_ALPHANUMERIC = \"[A-Za-z0-9]+(?=\\\\s+)\"\n",
    "\n",
    "LogReg_pipeline = Pipeline([\n",
    "                ('vec', CountVectorizer(token_pattern = TOKENS_ALPHANUMERIC,ngram_range=(1,3))),\n",
    "                (\"int\", SparseInteractions(degree=2)),\n",
    "                ('clf', OneVsRestClassifier(LogisticRegression(solver='sag'), n_jobs=1)),\n",
    "            ])\n",
    "\n",
    "LogReg_pipeline.fit(X_train, y_train)\n",
    "prediction = LogReg_pipeline.predict_proba(X_test)\n",
    "pd.DataFrame(prediction)"
   ]
  },
  {
   "cell_type": "code",
   "execution_count": null,
   "metadata": {},
   "outputs": [],
   "source": [
    "for genre in np.array(y.columns):\n",
    "    print('... Processing {}'.format(genre))\n",
    "    # train the model using X_dtm & y\n",
    "    LogReg_pipeline.fit(X_train, y_train[genre])\n",
    "    # compute the testing accuracy\n",
    "    prediction = LogReg_pipeline.predict(X_test)\n",
    "    print('Test accuracy is {}'.format(accuracy_score(y_test[genre], prediction)))\n",
    "    print(confusion_matrix(y_test[genre], prediction))\n",
    "    print(classification_report(y_test[genre], prediction))"
   ]
  },
  {
   "cell_type": "code",
   "execution_count": null,
   "metadata": {},
   "outputs": [],
   "source": [
    "rf = Pipeline([\n",
    "                ('vec', CountVectorizer(token_pattern = TOKENS_ALPHANUMERIC,ngram_range=(1,3))),\n",
    "                ('clf', OneVsRestClassifier(RandomForestClassifier(n_estimators=10), n_jobs=1)),\n",
    "            ])\n",
    "\n",
    "rf.fit(X_train, y_train)\n",
    "prediction = rf.predict_proba(X_test)\n",
    "pd.DataFrame(prediction)"
   ]
  },
  {
   "cell_type": "code",
   "execution_count": null,
   "metadata": {},
   "outputs": [],
   "source": [
    "for genre in np.array(y.columns):\n",
    "    print('... Processing {}'.format(genre))\n",
    "    # train the model using X_dtm & y\n",
    "    rf.fit(X_train, y_train[genre])\n",
    "    # compute the testing accuracy\n",
    "    prediction = rf.predict(X_test)\n",
    "    print('Test accuracy is {}'.format(accuracy_score(y_test[genre], prediction)))\n",
    "    print(confusion_matrix(y_test[genre], prediction))\n",
    "    print(classification_report(y_test[genre], prediction))"
   ]
  },
  {
   "cell_type": "code",
   "execution_count": null,
   "metadata": {},
   "outputs": [],
   "source": [
    "X = movies_cleaned.loc[:,\"Plot_cleaned\"]\n",
    "y = movies_cleaned.iloc[:,3:-1]\n",
    "\n",
    "X_train,X_test,y_train,y_test = train_test_split(X,y,test_size = 0.25)\n",
    "X_train.shape , X_test.shape, y_train.shape , y_test.shape"
   ]
  },
  {
   "cell_type": "code",
   "execution_count": null,
   "metadata": {},
   "outputs": [],
   "source": [
    "1 - len(y_test[y_test[\"Action\"]==1])/len(y_test)"
   ]
  },
  {
   "cell_type": "code",
   "execution_count": null,
   "metadata": {},
   "outputs": [],
   "source": [
    "LogReg_pipeline = Pipeline([\n",
    "                ('tfidf', TfidfVectorizer(stop_words=stop_words)),\n",
    "                ('clf', OneVsRestClassifier(LogisticRegression(solver='sag'), n_jobs=1)),\n",
    "            ])\n",
    "\n",
    "LogReg_pipeline.fit(X_train, y_train)\n",
    "prediction = LogReg_pipeline.predict_proba(X_test)\n",
    "pd.DataFrame(prediction)"
   ]
  },
  {
   "cell_type": "code",
   "execution_count": null,
   "metadata": {},
   "outputs": [],
   "source": [
    "from sklearn.ensemble import RandomForestClassifier\n",
    "\n",
    "rf = Pipeline([\n",
    "                ('tfidf', TfidfVectorizer(stop_words=stop_words)),\n",
    "                ('clf', RandomForestClassifier()),\n",
    "            ])\n",
    "\n",
    "rf.fit(X_train, y_train)\n",
    "accuracy = rf.score(X_test, y_test)\n",
    "accuracy\n",
    "\n",
    "# prediction = rf.predict_proba(X_test)\n",
    "# pd.DataFrame(prediction)"
   ]
  },
  {
   "cell_type": "code",
   "execution_count": null,
   "metadata": {},
   "outputs": [],
   "source": [
    "contador_LR = 0    \n",
    "for genre in np.array(y.columns):\n",
    "    print('... Processing {}'.format(genre))\n",
    "    # train the model using X_dtm & y\n",
    "    LogReg_pipeline.fit(X_train, y_train[genre])\n",
    "    # compute the testing accuracy\n",
    "    prediction = LogReg_pipeline.predict(X_test)\n",
    "    print('Test accuracy is {}'.format(accuracy_score(y_test[genre], prediction)))\n",
    "    print(confusion_matrix(y_test[genre], prediction))\n",
    "    print(classification_report(y_test[genre], prediction))\n",
    "    contador_LR += accuracy_score(y_test[genre], prediction)"
   ]
  },
  {
   "cell_type": "markdown",
   "metadata": {},
   "source": [
    "## SVC"
   ]
  },
  {
   "cell_type": "code",
   "execution_count": null,
   "metadata": {},
   "outputs": [],
   "source": [
    "SVC_pipeline = Pipeline([\n",
    "                ('tfidf', TfidfVectorizer(stop_words=stop_words)),\n",
    "                ('clf', OneVsRestClassifier(LinearSVC(), n_jobs=1))\n",
    "            ])\n",
    "\n",
    "SVC_pipeline.fit(X_train, y_train)\n"
   ]
  },
  {
   "cell_type": "markdown",
   "metadata": {},
   "source": [
    "La primera vez que hago el SVC e imprimo las matrices de confusion veo que hay colu"
   ]
  },
  {
   "cell_type": "code",
   "execution_count": null,
   "metadata": {
    "scrolled": false
   },
   "outputs": [],
   "source": [
    "contador_svc = 0    \n",
    "for genre in np.array(y.columns):\n",
    "    print('... Processing {}'.format(genre))\n",
    "    # train the model using X_dtm & y\n",
    "    SVC_pipeline.fit(X_train, y_train[genre])\n",
    "    # compute the testing accuracy\n",
    "    prediction = SVC_pipeline.predict(X_test)\n",
    "    print('Test accuracy is {}'.format(accuracy_score(y_test[genre], prediction)))\n",
    "    print(confusion_matrix(y_test[genre], prediction))\n",
    "    print(classification_report(y_test[genre], prediction))\n",
    "    contador_svc += accuracy_score(y_test[genre], prediction)\n",
    "\n",
    "# SVC_pipeline.fit(X_train, y_train[\"Drama\"])\n",
    "# prediction = SVC_pipeline.predict(X_test)\n",
    "# display(accuracy_score(y_test[\"Drama\"], prediction))\n",
    "# display(confusion_matrix(y_test[\"Drama\"], prediction))\n",
    "# print(classification_report(y_test[\"Drama\"], prediction))\n",
    "                 "
   ]
  },
  {
   "cell_type": "markdown",
   "metadata": {},
   "source": [
    "## LogisticRegression "
   ]
  },
  {
   "cell_type": "code",
   "execution_count": null,
   "metadata": {},
   "outputs": [],
   "source": [
    "LogReg_pipeline = Pipeline([\n",
    "                ('tfidf', TfidfVectorizer(stop_words=stop_words)),\n",
    "                ('clf', OneVsRestClassifier(LogisticRegression(solver='sag'), n_jobs=1)),\n",
    "            ])\n"
   ]
  },
  {
   "cell_type": "code",
   "execution_count": null,
   "metadata": {},
   "outputs": [],
   "source": [
    "contador_LR = 0    \n",
    "for genre in np.array(y.columns):\n",
    "    print('... Processing {}'.format(genre))\n",
    "    # train the model using X_dtm & y\n",
    "    LogReg_pipeline.fit(X_train, y_train[genre])\n",
    "    # compute the testing accuracy\n",
    "    prediction = LogReg_pipeline.predict(X_test)\n",
    "    print('Test accuracy is {}'.format(accuracy_score(y_test[genre], prediction)))\n",
    "    print(confusion_matrix(y_test[genre], prediction))\n",
    "    print(classification_report(y_test[genre], prediction))\n",
    "    contador_LR += accuracy_score(y_test[genre], prediction)"
   ]
  },
  {
   "cell_type": "code",
   "execution_count": null,
   "metadata": {},
   "outputs": [],
   "source": [
    "MultinomialNB = Pipeline([\n",
    "                ('tfidf', TfidfVectorizer(stop_words=stop_words)),\n",
    "                ('clf', OneVsRestClassifier(MultinomialNB(\n",
    "                    fit_prior=True, class_prior=None))),\n",
    "            ])\n"
   ]
  },
  {
   "cell_type": "code",
   "execution_count": null,
   "metadata": {},
   "outputs": [],
   "source": [
    "for genre in np.array(y.columns):\n",
    "    print('... Processing {}'.format(genre))\n",
    "    # train the model using X_dtm & y\n",
    "    MultinomialNB.fit(X_train, y_train[genre])\n",
    "    # compute the testing accuracy\n",
    "    prediction = MultinomialNB.predict(X_test)\n",
    "    print('Test accuracy is {}'.format(accuracy_score(y_test[genre], prediction)))\n",
    "    print(confusion_matrix(y_test[genre], prediction))\n",
    "    print(classification_report(y_test[genre], prediction))\n"
   ]
  },
  {
   "cell_type": "code",
   "execution_count": null,
   "metadata": {},
   "outputs": [],
   "source": []
  },
  {
   "cell_type": "code",
   "execution_count": null,
   "metadata": {},
   "outputs": [],
   "source": []
  }
 ],
 "metadata": {
  "kernelspec": {
   "display_name": "Python 3",
   "language": "python",
   "name": "python3"
  },
  "language_info": {
   "codemirror_mode": {
    "name": "ipython",
    "version": 3
   },
   "file_extension": ".py",
   "mimetype": "text/x-python",
   "name": "python",
   "nbconvert_exporter": "python",
   "pygments_lexer": "ipython3",
   "version": "3.7.0"
  }
 },
 "nbformat": 4,
 "nbformat_minor": 2
}
